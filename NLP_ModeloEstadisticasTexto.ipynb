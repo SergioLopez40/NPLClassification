{
  "nbformat": 4,
  "nbformat_minor": 0,
  "metadata": {
    "colab": {
      "provenance": [],
      "toc_visible": true
    },
    "kernelspec": {
      "name": "python3",
      "display_name": "Python 3"
    }
  },
  "cells": [
    {
      "cell_type": "markdown",
      "metadata": {
        "id": "2jfpp-PAvVKh"
      },
      "source": [
        "#Proyecto Procesamiento de Lenguaje Natural :\n",
        "\n",
        "#Clasificacion de generos musicales colombianos por medio del analisis de caracteristicas de sus letras"
      ]
    },
    {
      "cell_type": "markdown",
      "metadata": {
        "id": "9riO4QZdvU7_"
      },
      "source": [
        "##Sergio Steven Lopez Martinez"
      ]
    },
    {
      "cell_type": "markdown",
      "metadata": {
        "id": "XjRvy_olvuOa"
      },
      "source": [
        "##Imports de librerias a utilizar"
      ]
    },
    {
      "cell_type": "code",
      "metadata": {
        "id": "jEKfqqc6F_4D"
      },
      "source": [
        "import matplotlib.pyplot as plt\n",
        "import IPython.display as ipd\n",
        "import librosa.display\n",
        "import librosa as lb\n",
        "import numpy as np\n",
        "import sklearn\n",
        "import os\n",
        "from PIL import Image\n",
        "from textblob import TextBlob\n",
        "import pathlib\n",
        "import csv\n",
        "import pylab as pl\n",
        "import nltk\n",
        "import re, string, unicodedata\n",
        "from unicodedata import normalize\n",
        "import inflect\n",
        "from bs4 import BeautifulSoup\n",
        "from nltk import word_tokenize, sent_tokenize\n",
        "from nltk.corpus import stopwords\n",
        "from nltk.stem import LancasterStemmer, WordNetLemmatizer\n",
        "import pandas as pd\n",
        "from sklearn.model_selection import train_test_split\n",
        "from sklearn.preprocessing import LabelEncoder, StandardScaler"
      ],
      "execution_count": null,
      "outputs": []
    },
    {
      "cell_type": "code",
      "metadata": {
        "id": "rNWv7O9OiCLK",
        "outputId": "18c74d66-4ad3-49b5-bc48-ec5b09aa7c99",
        "colab": {
          "base_uri": "https://localhost:8080/",
          "height": 136
        }
      },
      "source": [
        "nltk.download('punkt')\n",
        "nltk.download('stopwords')\n",
        "nltk.download('wordnet')"
      ],
      "execution_count": null,
      "outputs": [
        {
          "output_type": "stream",
          "text": [
            "[nltk_data] Downloading package punkt to /root/nltk_data...\n",
            "[nltk_data]   Unzipping tokenizers/punkt.zip.\n",
            "[nltk_data] Downloading package stopwords to /root/nltk_data...\n",
            "[nltk_data]   Unzipping corpora/stopwords.zip.\n",
            "[nltk_data] Downloading package wordnet to /root/nltk_data...\n",
            "[nltk_data]   Unzipping corpora/wordnet.zip.\n"
          ],
          "name": "stdout"
        },
        {
          "output_type": "execute_result",
          "data": {
            "text/plain": [
              "True"
            ]
          },
          "metadata": {
            "tags": []
          },
          "execution_count": 2
        }
      ]
    },
    {
      "cell_type": "markdown",
      "metadata": {
        "id": "HbQhoaOGvzip"
      },
      "source": [
        "##Carga del dataset de letras de canciones de los 6 generos musicales(Cumbia, Carranga, Pasillo, Bambuco, Vallenato, Joropo) hechas manualmente"
      ]
    },
    {
      "cell_type": "code",
      "metadata": {
        "id": "Fr-qAwfrSzqR",
        "outputId": "ff6caf71-564e-4130-8814-f1e229a97212",
        "colab": {
          "base_uri": "https://localhost:8080/",
          "height": 1000
        }
      },
      "source": [
        "#!wget -O Canciones.zip \"https://drive.google.com/uc?export=download&id=1tf0p96LDQvl5VSagIq8lVRcgLXjDpxqq\"\n",
        "#!unzip Canciones.zip\n",
        "!wget -O Canciones2.zip \"https://drive.google.com/uc?export=download&id=1qKRg_UvylgVbo00fCSS6HhRWhgetsTYb\"\n",
        "!unzip Canciones2.zip"
      ],
      "execution_count": null,
      "outputs": [
        {
          "output_type": "stream",
          "text": [
            "--2019-07-17 12:40:55--  https://drive.google.com/uc?export=download&id=1qKRg_UvylgVbo00fCSS6HhRWhgetsTYb\n",
            "Resolving drive.google.com (drive.google.com)... 74.125.141.101, 74.125.141.139, 74.125.141.102, ...\n",
            "Connecting to drive.google.com (drive.google.com)|74.125.141.101|:443... connected.\n",
            "HTTP request sent, awaiting response... 302 Moved Temporarily\n",
            "Location: https://doc-0g-40-docs.googleusercontent.com/docs/securesc/ha0ro937gcuc7l7deffksulhg5h7mbp1/lu95lif39m0941dkfnknivp0oq1je18g/1563364800000/10519510251368043159/*/1qKRg_UvylgVbo00fCSS6HhRWhgetsTYb?e=download [following]\n",
            "Warning: wildcards not supported in HTTP.\n",
            "--2019-07-17 12:40:56--  https://doc-0g-40-docs.googleusercontent.com/docs/securesc/ha0ro937gcuc7l7deffksulhg5h7mbp1/lu95lif39m0941dkfnknivp0oq1je18g/1563364800000/10519510251368043159/*/1qKRg_UvylgVbo00fCSS6HhRWhgetsTYb?e=download\n",
            "Resolving doc-0g-40-docs.googleusercontent.com (doc-0g-40-docs.googleusercontent.com)... 74.125.141.132, 2607:f8b0:400c:c06::84\n",
            "Connecting to doc-0g-40-docs.googleusercontent.com (doc-0g-40-docs.googleusercontent.com)|74.125.141.132|:443... connected.\n",
            "HTTP request sent, awaiting response... 200 OK\n",
            "Length: 106310 (104K) [application/x-zip-compressed]\n",
            "Saving to: ‘Canciones2.zip’\n",
            "\n",
            "Canciones2.zip      100%[===================>] 103.82K  --.-KB/s    in 0.001s  \n",
            "\n",
            "2019-07-17 12:40:56 (98.4 MB/s) - ‘Canciones2.zip’ saved [106310/106310]\n",
            "\n",
            "Archive:  Canciones2.zip\n",
            "   creating: Canciones/\n",
            "  inflating: Canciones/Bambuco01.txt  \n",
            "  inflating: Canciones/Bambuco02.txt  \n",
            "  inflating: Canciones/Bambuco03.txt  \n",
            "  inflating: Canciones/Bambuco04.txt  \n",
            "  inflating: Canciones/Bambuco05.txt  \n",
            "  inflating: Canciones/Bambuco06.txt  \n",
            "  inflating: Canciones/Bambuco07.txt  \n",
            "  inflating: Canciones/Bambuco08.txt  \n",
            "  inflating: Canciones/Bambuco09.txt  \n",
            "  inflating: Canciones/Bambuco10.txt  \n",
            "  inflating: Canciones/Bambuco11.txt  \n",
            "  inflating: Canciones/Bambuco12.txt  \n",
            "  inflating: Canciones/Bambuco13.txt  \n",
            "  inflating: Canciones/Bambuco14.txt  \n",
            "  inflating: Canciones/Bambuco15.txt  \n",
            "  inflating: Canciones/Bambuco16.txt  \n",
            "  inflating: Canciones/Bambuco17.txt  \n",
            "  inflating: Canciones/Bambuco18.txt  \n",
            "  inflating: Canciones/Bambuco19.txt  \n",
            "  inflating: Canciones/Bambuco20.txt  \n",
            "  inflating: Canciones/Bambuco21.txt  \n",
            "  inflating: Canciones/Bambuco22.txt  \n",
            "  inflating: Canciones/Bambuco23.txt  \n",
            "  inflating: Canciones/Bambuco24.txt  \n",
            "  inflating: Canciones/Bambuco25.txt  \n",
            "  inflating: Canciones/Bambuco26.txt  \n",
            "  inflating: Canciones/Bambuco27.txt  \n",
            "  inflating: Canciones/Bambuco28.txt  \n",
            "  inflating: Canciones/Bambuco29.txt  \n",
            "  inflating: Canciones/Bambuco30.txt  \n",
            "  inflating: Canciones/Carranga01.txt  \n",
            "  inflating: Canciones/Carranga02.txt  \n",
            "  inflating: Canciones/Carranga03.txt  \n",
            "  inflating: Canciones/Carranga04.txt  \n",
            "  inflating: Canciones/Carranga05.txt  \n",
            "  inflating: Canciones/Carranga06.txt  \n",
            "  inflating: Canciones/Carranga07.txt  \n",
            "  inflating: Canciones/Carranga08.txt  \n",
            "  inflating: Canciones/Carranga09.txt  \n",
            "  inflating: Canciones/Carranga10.txt  \n",
            "  inflating: Canciones/Carranga11.txt  \n",
            "  inflating: Canciones/Carranga12.txt  \n",
            "  inflating: Canciones/Carranga13.txt  \n",
            "  inflating: Canciones/Carranga14.txt  \n",
            "  inflating: Canciones/Carranga15.txt  \n",
            "  inflating: Canciones/Carranga16.txt  \n",
            "  inflating: Canciones/Carranga17.txt  \n",
            "  inflating: Canciones/Carranga18.txt  \n",
            "  inflating: Canciones/Carranga19.txt  \n",
            "  inflating: Canciones/Carranga20.txt  \n",
            "  inflating: Canciones/Carranga21.txt  \n",
            "  inflating: Canciones/Carranga22.txt  \n",
            "  inflating: Canciones/Carranga23.txt  \n",
            "  inflating: Canciones/Carranga24.txt  \n",
            "  inflating: Canciones/Carranga25.txt  \n",
            "  inflating: Canciones/Carranga26.txt  \n",
            "  inflating: Canciones/Carranga27.txt  \n",
            "  inflating: Canciones/Carranga28.txt  \n",
            "  inflating: Canciones/Carranga29.txt  \n",
            "  inflating: Canciones/Carranga30.txt  \n",
            "  inflating: Canciones/Cumbia01.txt  \n",
            "  inflating: Canciones/Cumbia02.txt  \n",
            "  inflating: Canciones/Cumbia03.txt  \n",
            "  inflating: Canciones/Cumbia04.txt  \n",
            "  inflating: Canciones/Cumbia05.txt  \n",
            "  inflating: Canciones/Cumbia06.txt  \n",
            "  inflating: Canciones/Cumbia07.txt  \n",
            "  inflating: Canciones/Cumbia08.txt  \n",
            "  inflating: Canciones/Cumbia09.txt  \n",
            "  inflating: Canciones/Cumbia10.txt  \n",
            "  inflating: Canciones/Cumbia11.txt  \n",
            "  inflating: Canciones/Cumbia12.txt  \n",
            "  inflating: Canciones/Cumbia13.txt  \n",
            "  inflating: Canciones/Cumbia14.txt  \n",
            "  inflating: Canciones/Cumbia15.txt  \n",
            "  inflating: Canciones/Cumbia16.txt  \n",
            "  inflating: Canciones/Cumbia17.txt  \n",
            "  inflating: Canciones/Cumbia18.txt  \n",
            "  inflating: Canciones/Cumbia19.txt  \n",
            "  inflating: Canciones/Cumbia20.txt  \n",
            "  inflating: Canciones/Cumbia21.txt  \n",
            "  inflating: Canciones/Cumbia22.txt  \n",
            "  inflating: Canciones/Cumbia23.txt  \n",
            "  inflating: Canciones/Cumbia24.txt  \n",
            "  inflating: Canciones/Cumbia25.txt  \n",
            "  inflating: Canciones/Cumbia26.txt  \n",
            "  inflating: Canciones/Cumbia27.txt  \n",
            "  inflating: Canciones/Cumbia28.txt  \n",
            "  inflating: Canciones/Cumbia29.txt  \n",
            "  inflating: Canciones/Cumbia30.txt  \n",
            "  inflating: Canciones/Joropo01.txt  \n",
            "  inflating: Canciones/Joropo02.txt  \n",
            "  inflating: Canciones/Joropo03.txt  \n",
            "  inflating: Canciones/Joropo04.txt  \n",
            "  inflating: Canciones/Joropo05.txt  \n",
            "  inflating: Canciones/Joropo06.txt  \n",
            "  inflating: Canciones/Joropo07.txt  \n",
            "  inflating: Canciones/Joropo08.txt  \n",
            "  inflating: Canciones/Joropo09.txt  \n",
            "  inflating: Canciones/Joropo10.txt  \n",
            "  inflating: Canciones/Joropo11.txt  \n",
            "  inflating: Canciones/Joropo12.txt  \n",
            "  inflating: Canciones/Joropo13.txt  \n",
            "  inflating: Canciones/Joropo14.txt  \n",
            "  inflating: Canciones/Joropo15.txt  \n",
            "  inflating: Canciones/Joropo16.txt  \n",
            "  inflating: Canciones/Joropo17.txt  \n",
            "  inflating: Canciones/Joropo18.txt  \n",
            "  inflating: Canciones/Joropo19.txt  \n",
            "  inflating: Canciones/Joropo20.txt  \n",
            "  inflating: Canciones/Joropo21.txt  \n",
            "  inflating: Canciones/Joropo22.txt  \n",
            "  inflating: Canciones/Joropo23.txt  \n",
            "  inflating: Canciones/Joropo24.txt  \n",
            "  inflating: Canciones/Joropo25.txt  \n",
            "  inflating: Canciones/Joropo26.txt  \n",
            "  inflating: Canciones/Joropo27.txt  \n",
            "  inflating: Canciones/Joropo28.txt  \n",
            "  inflating: Canciones/Joropo29.txt  \n",
            "  inflating: Canciones/Joropo30.txt  \n",
            "  inflating: Canciones/Pasillo01.txt  \n",
            "  inflating: Canciones/Pasillo02.txt  \n",
            "  inflating: Canciones/Pasillo03.txt  \n",
            "  inflating: Canciones/Pasillo04.txt  \n",
            "  inflating: Canciones/Pasillo05.txt  \n",
            "  inflating: Canciones/Pasillo06.txt  \n",
            "  inflating: Canciones/Pasillo07.txt  \n",
            "  inflating: Canciones/Pasillo08.txt  \n",
            "  inflating: Canciones/Pasillo09.txt  \n",
            "  inflating: Canciones/Pasillo10.txt  \n",
            "  inflating: Canciones/Pasillo11.txt  \n",
            "  inflating: Canciones/Pasillo12.txt  \n",
            "  inflating: Canciones/Pasillo13.txt  \n",
            "  inflating: Canciones/Pasillo14.txt  \n",
            "  inflating: Canciones/Pasillo15.txt  \n",
            "  inflating: Canciones/Pasillo16.txt  \n",
            "  inflating: Canciones/Pasillo17.txt  \n",
            "  inflating: Canciones/Pasillo18.txt  \n",
            "  inflating: Canciones/Pasillo19.txt  \n",
            "  inflating: Canciones/Pasillo20.txt  \n",
            "  inflating: Canciones/Pasillo21.txt  \n",
            "  inflating: Canciones/Pasillo22.txt  \n",
            "  inflating: Canciones/Pasillo23.txt  \n",
            "  inflating: Canciones/Pasillo24.txt  \n",
            "  inflating: Canciones/Pasillo25.txt  \n",
            "  inflating: Canciones/Pasillo26.txt  \n",
            "  inflating: Canciones/Pasillo27.txt  \n",
            "  inflating: Canciones/Pasillo28.txt  \n",
            "  inflating: Canciones/Pasillo29.txt  \n",
            "  inflating: Canciones/Pasillo30.txt  \n",
            "  inflating: Canciones/Vallenato01.txt  \n",
            "  inflating: Canciones/Vallenato02.txt  \n",
            "  inflating: Canciones/Vallenato03.txt  \n",
            "  inflating: Canciones/Vallenato04.txt  \n",
            "  inflating: Canciones/Vallenato05.txt  \n",
            "  inflating: Canciones/Vallenato06.txt  \n",
            "  inflating: Canciones/Vallenato07.txt  \n",
            "  inflating: Canciones/Vallenato08.txt  \n",
            "  inflating: Canciones/Vallenato09.txt  \n",
            "  inflating: Canciones/Vallenato10.txt  \n",
            "  inflating: Canciones/Vallenato11.txt  \n",
            "  inflating: Canciones/Vallenato12.txt  \n",
            "  inflating: Canciones/Vallenato13.txt  \n",
            "  inflating: Canciones/Vallenato14.txt  \n",
            "  inflating: Canciones/Vallenato15.txt  \n",
            "  inflating: Canciones/Vallenato16.txt  \n",
            "  inflating: Canciones/Vallenato17.txt  \n",
            "  inflating: Canciones/Vallenato18.txt  \n",
            "  inflating: Canciones/Vallenato19.txt  \n",
            "  inflating: Canciones/Vallenato20.txt  \n",
            "  inflating: Canciones/Vallenato21.txt  \n",
            "  inflating: Canciones/Vallenato22.txt  \n",
            "  inflating: Canciones/Vallenato23.txt  \n",
            "  inflating: Canciones/Vallenato24.txt  \n",
            "  inflating: Canciones/Vallenato25.txt  \n",
            "  inflating: Canciones/Vallenato26.txt  \n",
            "  inflating: Canciones/Vallenato27.txt  \n",
            "  inflating: Canciones/Vallenato28.txt  \n",
            "  inflating: Canciones/Vallenato29.txt  \n",
            "  inflating: Canciones/Vallenato30.txt  \n"
          ],
          "name": "stdout"
        }
      ]
    },
    {
      "cell_type": "code",
      "metadata": {
        "id": "E42IFSXOTPgd",
        "outputId": "d1545034-0870-4082-93d7-f304a8c7e0e5",
        "colab": {
          "base_uri": "https://localhost:8080/",
          "height": 1000
        }
      },
      "source": [
        "!ls -la Canciones"
      ],
      "execution_count": null,
      "outputs": [
        {
          "output_type": "stream",
          "text": [
            "total 736\n",
            "drwxr-xr-x 2 root root 12288 Jul 16 10:34 .\n",
            "drwxr-xr-x 1 root root  4096 Jul 17 12:40 ..\n",
            "-rw-r--r-- 1 root root  1173 Jul 16 18:45 Bambuco01.txt\n",
            "-rw-r--r-- 1 root root   806 Jul 16 18:41 Bambuco02.txt\n",
            "-rw-r--r-- 1 root root   743 Jul 16 18:46 Bambuco03.txt\n",
            "-rw-r--r-- 1 root root   905 Jul 16 18:42 Bambuco04.txt\n",
            "-rw-r--r-- 1 root root   961 Jul 14 21:11 Bambuco05.txt\n",
            "-rw-r--r-- 1 root root  1037 Jul 14 21:11 Bambuco06.txt\n",
            "-rw-r--r-- 1 root root   656 Jul 14 21:11 Bambuco07.txt\n",
            "-rw-r--r-- 1 root root   610 Jul 14 21:11 Bambuco08.txt\n",
            "-rw-r--r-- 1 root root   721 Jul 14 21:11 Bambuco09.txt\n",
            "-rw-r--r-- 1 root root   730 Jul 14 14:48 Bambuco10.txt\n",
            "-rw-r--r-- 1 root root   501 Jul 16 07:43 Bambuco11.txt\n",
            "-rw-r--r-- 1 root root   458 Jul 16 07:44 Bambuco12.txt\n",
            "-rw-r--r-- 1 root root  1062 Jul 16 07:44 Bambuco13.txt\n",
            "-rw-r--r-- 1 root root   938 Jul 16 07:45 Bambuco14.txt\n",
            "-rw-r--r-- 1 root root   565 Jul 16 07:55 Bambuco15.txt\n",
            "-rw-r--r-- 1 root root   732 Jul 16 07:59 Bambuco16.txt\n",
            "-rw-r--r-- 1 root root   952 Jul 16 08:01 Bambuco17.txt\n",
            "-rw-r--r-- 1 root root   622 Jul 16 08:06 Bambuco18.txt\n",
            "-rw-r--r-- 1 root root  1166 Jul 16 08:06 Bambuco19.txt\n",
            "-rw-r--r-- 1 root root   993 Jul 16 08:07 Bambuco20.txt\n",
            "-rw-r--r-- 1 root root   868 Jul 16 08:12 Bambuco21.txt\n",
            "-rw-r--r-- 1 root root   709 Jul 16 08:12 Bambuco22.txt\n",
            "-rw-r--r-- 1 root root   714 Jul 16 08:13 Bambuco23.txt\n",
            "-rw-r--r-- 1 root root   930 Jul 16 09:09 Bambuco24.txt\n",
            "-rw-r--r-- 1 root root   769 Jul 16 09:13 Bambuco25.txt\n",
            "-rw-r--r-- 1 root root   658 Jul 16 09:13 Bambuco26.txt\n",
            "-rw-r--r-- 1 root root   777 Jul 16 09:15 Bambuco27.txt\n",
            "-rw-r--r-- 1 root root   812 Jul 16 09:16 Bambuco28.txt\n",
            "-rw-r--r-- 1 root root   658 Jul 16 09:17 Bambuco29.txt\n",
            "-rw-r--r-- 1 root root   460 Jul 16 09:18 Bambuco30.txt\n",
            "-rw-r--r-- 1 root root   635 Jul 14 21:11 Carranga01.txt\n",
            "-rw-r--r-- 1 root root   775 Jul 14 21:12 Carranga02.txt\n",
            "-rw-r--r-- 1 root root  1642 Jul 14 21:12 Carranga03.txt\n",
            "-rw-r--r-- 1 root root  1166 Jul 14 21:12 Carranga04.txt\n",
            "-rw-r--r-- 1 root root  1230 Jul 14 21:12 Carranga05.txt\n",
            "-rw-r--r-- 1 root root   914 Jul 14 21:12 Carranga06.txt\n",
            "-rw-r--r-- 1 root root  1022 Jul 14 21:12 Carranga07.txt\n",
            "-rw-r--r-- 1 root root   916 Jul 14 21:12 Carranga08.txt\n",
            "-rw-r--r-- 1 root root  1046 Jul 14 21:12 Carranga09.txt\n",
            "-rw-r--r-- 1 root root   972 Jul 16 09:40 Carranga10.txt\n",
            "-rw-r--r-- 1 root root  1811 Jul 16 09:40 Carranga11.txt\n",
            "-rw-r--r-- 1 root root  1447 Jul 16 09:41 Carranga12.txt\n",
            "-rw-r--r-- 1 root root   873 Jul 16 09:45 Carranga13.txt\n",
            "-rw-r--r-- 1 root root   801 Jul 16 09:46 Carranga14.txt\n",
            "-rw-r--r-- 1 root root   428 Jul 16 09:46 Carranga15.txt\n",
            "-rw-r--r-- 1 root root  1013 Jul 16 09:47 Carranga16.txt\n",
            "-rw-r--r-- 1 root root   821 Jul 16 09:48 Carranga17.txt\n",
            "-rw-r--r-- 1 root root  1036 Jul 16 09:49 Carranga18.txt\n",
            "-rw-r--r-- 1 root root   800 Jul 16 09:53 Carranga19.txt\n",
            "-rw-r--r-- 1 root root  1471 Jul 16 09:54 Carranga20.txt\n",
            "-rw-r--r-- 1 root root   966 Jul 16 09:55 Carranga21.txt\n",
            "-rw-r--r-- 1 root root   731 Jul 16 09:56 Carranga22.txt\n",
            "-rw-r--r-- 1 root root   977 Jul 16 09:57 Carranga23.txt\n",
            "-rw-r--r-- 1 root root   897 Jul 16 09:57 Carranga24.txt\n",
            "-rw-r--r-- 1 root root  1158 Jul 16 09:58 Carranga25.txt\n",
            "-rw-r--r-- 1 root root  1254 Jul 16 09:59 Carranga26.txt\n",
            "-rw-r--r-- 1 root root   826 Jul 16 10:00 Carranga27.txt\n",
            "-rw-r--r-- 1 root root  1448 Jul 16 10:01 Carranga28.txt\n",
            "-rw-r--r-- 1 root root   836 Jul 16 10:02 Carranga29.txt\n",
            "-rw-r--r-- 1 root root  1083 Jul 16 10:03 Carranga30.txt\n",
            "-rw-r--r-- 1 root root   791 Jul 14 21:12 Cumbia01.txt\n",
            "-rw-r--r-- 1 root root   928 Jul 14 21:12 Cumbia02.txt\n",
            "-rw-r--r-- 1 root root   696 Jul 14 21:12 Cumbia03.txt\n",
            "-rw-r--r-- 1 root root  2002 Jul 14 21:12 Cumbia04.txt\n",
            "-rw-r--r-- 1 root root   413 Jul 14 21:12 Cumbia05.txt\n",
            "-rw-r--r-- 1 root root   812 Jul 14 21:12 Cumbia06.txt\n",
            "-rw-r--r-- 1 root root   800 Jul 14 21:12 Cumbia07.txt\n",
            "-rw-r--r-- 1 root root   487 Jul 14 21:12 Cumbia08.txt\n",
            "-rw-r--r-- 1 root root   827 Jul 14 21:12 Cumbia09.txt\n",
            "-rw-r--r-- 1 root root   801 Jul 14 15:39 Cumbia10.txt\n",
            "-rw-r--r-- 1 root root   873 Jul 16 07:44 Cumbia11.txt\n",
            "-rw-r--r-- 1 root root   750 Jul 16 09:14 Cumbia12.txt\n",
            "-rw-r--r-- 1 root root   829 Jul 16 09:22 Cumbia13.txt\n",
            "-rw-r--r-- 1 root root   564 Jul 16 09:27 Cumbia14.txt\n",
            "-rw-r--r-- 1 root root   784 Jul 16 09:29 Cumbia15.txt\n",
            "-rw-r--r-- 1 root root  1426 Jul 16 10:23 Cumbia16.txt\n",
            "-rw-r--r-- 1 root root   942 Jul 16 18:18 Cumbia17.txt\n",
            "-rw-r--r-- 1 root root  1151 Jul 16 18:19 Cumbia18.txt\n",
            "-rw-r--r-- 1 root root   630 Jul 16 18:21 Cumbia19.txt\n",
            "-rw-r--r-- 1 root root  1272 Jul 16 18:21 Cumbia20.txt\n",
            "-rw-r--r-- 1 root root  1418 Jul 16 18:22 Cumbia21.txt\n",
            "-rw-r--r-- 1 root root  1028 Jul 16 18:23 Cumbia22.txt\n",
            "-rw-r--r-- 1 root root  1193 Jul 16 18:24 Cumbia23.txt\n",
            "-rw-r--r-- 1 root root   836 Jul 16 18:24 Cumbia24.txt\n",
            "-rw-r--r-- 1 root root  1184 Jul 16 18:26 Cumbia25.txt\n",
            "-rw-r--r-- 1 root root   654 Jul 16 18:26 Cumbia26.txt\n",
            "-rw-r--r-- 1 root root   709 Jul 16 18:28 Cumbia27.txt\n",
            "-rw-r--r-- 1 root root  1321 Jul 16 18:28 Cumbia28.txt\n",
            "-rw-r--r-- 1 root root   997 Jul 16 18:29 Cumbia29.txt\n",
            "-rw-r--r-- 1 root root  1934 Jul 16 18:27 Cumbia30.txt\n",
            "-rw-r--r-- 1 root root   821 Jul 14 21:13 Joropo01.txt\n",
            "-rw-r--r-- 1 root root   982 Jul 14 21:13 Joropo02.txt\n",
            "-rw-r--r-- 1 root root   995 Jul 14 21:13 Joropo03.txt\n",
            "-rw-r--r-- 1 root root  1681 Jul 14 21:13 Joropo04.txt\n",
            "-rw-r--r-- 1 root root   730 Jul 14 21:13 Joropo05.txt\n",
            "-rw-r--r-- 1 root root  1297 Jul 14 21:13 Joropo06.txt\n",
            "-rw-r--r-- 1 root root  2000 Jul 14 21:13 Joropo07.txt\n",
            "-rw-r--r-- 1 root root  1013 Jul 14 21:13 Joropo08.txt\n",
            "-rw-r--r-- 1 root root  1942 Jul 14 21:13 Joropo09.txt\n",
            "-rw-r--r-- 1 root root   959 Jul 14 15:27 Joropo10.txt\n",
            "-rw-r--r-- 1 root root   886 Jul 16 18:01 Joropo11.txt\n",
            "-rw-r--r-- 1 root root  1051 Jul 16 09:25 Joropo12.txt\n",
            "-rw-r--r-- 1 root root  1132 Jul 16 09:28 Joropo13.txt\n",
            "-rw-r--r-- 1 root root   711 Jul 16 09:28 Joropo14.txt\n",
            "-rw-r--r-- 1 root root   827 Jul 16 09:31 Joropo15.txt\n",
            "-rw-r--r-- 1 root root   492 Jul 16 10:27 Joropo16.txt\n",
            "-rw-r--r-- 1 root root  1343 Jul 16 18:05 Joropo17.txt\n",
            "-rw-r--r-- 1 root root  1028 Jul 16 18:06 Joropo18.txt\n",
            "-rw-r--r-- 1 root root  1579 Jul 16 18:07 Joropo19.txt\n",
            "-rw-r--r-- 1 root root  1001 Jul 16 18:09 Joropo20.txt\n",
            "-rw-r--r-- 1 root root  1388 Jul 16 18:09 Joropo21.txt\n",
            "-rw-r--r-- 1 root root  1252 Jul 16 18:09 Joropo22.txt\n",
            "-rw-r--r-- 1 root root  1728 Jul 16 18:12 Joropo23.txt\n",
            "-rw-r--r-- 1 root root   838 Jul 16 18:12 Joropo24.txt\n",
            "-rw-r--r-- 1 root root   933 Jul 16 18:12 Joropo25.txt\n",
            "-rw-r--r-- 1 root root  1684 Jul 16 18:13 Joropo26.txt\n",
            "-rw-r--r-- 1 root root  1660 Jul 16 18:13 Joropo27.txt\n",
            "-rw-r--r-- 1 root root  1608 Jul 16 18:14 Joropo28.txt\n",
            "-rw-r--r-- 1 root root  1794 Jul 16 18:15 Joropo29.txt\n",
            "-rw-r--r-- 1 root root  3498 Jul 16 18:11 Joropo30.txt\n",
            "-rw-r--r-- 1 root root   738 Jul 14 21:13 Pasillo01.txt\n",
            "-rw-r--r-- 1 root root   888 Jul 14 21:13 Pasillo02.txt\n",
            "-rw-r--r-- 1 root root   680 Jul 14 21:13 Pasillo03.txt\n",
            "-rw-r--r-- 1 root root  1063 Jul 14 21:13 Pasillo04.txt\n",
            "-rw-r--r-- 1 root root   690 Jul 14 21:13 Pasillo05.txt\n",
            "-rw-r--r-- 1 root root   461 Jul 14 21:13 Pasillo06.txt\n",
            "-rw-r--r-- 1 root root   743 Jul 14 21:13 Pasillo07.txt\n",
            "-rw-r--r-- 1 root root   563 Jul 14 21:13 Pasillo08.txt\n",
            "-rw-r--r-- 1 root root   613 Jul 14 21:13 Pasillo09.txt\n",
            "-rw-r--r-- 1 root root  1299 Jul 14 14:56 Pasillo10.txt\n",
            "-rw-r--r-- 1 root root   510 Jul 16 07:50 Pasillo11.txt\n",
            "-rw-r--r-- 1 root root   794 Jul 16 07:56 Pasillo12.txt\n",
            "-rw-r--r-- 1 root root   463 Jul 16 08:00 Pasillo13.txt\n",
            "-rw-r--r-- 1 root root   611 Jul 16 08:01 Pasillo14.txt\n",
            "-rw-r--r-- 1 root root   749 Jul 16 08:04 Pasillo15.txt\n",
            "-rw-r--r-- 1 root root   449 Jul 16 08:04 Pasillo16.txt\n",
            "-rw-r--r-- 1 root root   781 Jul 16 08:05 Pasillo17.txt\n",
            "-rw-r--r-- 1 root root   918 Jul 16 08:06 Pasillo18.txt\n",
            "-rw-r--r-- 1 root root   458 Jul 16 08:07 Pasillo19.txt\n",
            "-rw-r--r-- 1 root root   472 Jul 16 08:13 Pasillo20.txt\n",
            "-rw-r--r-- 1 root root   501 Jul 16 09:10 Pasillo21.txt\n",
            "-rw-r--r-- 1 root root   564 Jul 16 09:12 Pasillo22.txt\n",
            "-rw-r--r-- 1 root root   768 Jul 16 09:16 Pasillo23.txt\n",
            "-rw-r--r-- 1 root root   539 Jul 16 09:17 Pasillo24.txt\n",
            "-rw-r--r-- 1 root root   694 Jul 16 09:18 Pasillo25.txt\n",
            "-rw-r--r-- 1 root root   762 Jul 16 09:20 Pasillo26.txt\n",
            "-rw-r--r-- 1 root root   552 Jul 16 09:20 Pasillo27.txt\n",
            "-rw-r--r-- 1 root root   690 Jul 16 09:21 Pasillo28.txt\n",
            "-rw-r--r-- 1 root root   673 Jul 16 09:23 Pasillo29.txt\n",
            "-rw-r--r-- 1 root root   877 Jul 16 09:26 Pasillo30.txt\n",
            "-rw-r--r-- 1 root root   960 Jul 14 21:14 Vallenato01.txt\n",
            "-rw-r--r-- 1 root root  1210 Jul 14 21:14 Vallenato02.txt\n",
            "-rw-r--r-- 1 root root  1571 Jul 14 21:14 Vallenato03.txt\n",
            "-rw-r--r-- 1 root root  1719 Jul 14 21:14 Vallenato04.txt\n",
            "-rw-r--r-- 1 root root  1144 Jul 14 21:14 Vallenato05.txt\n",
            "-rw-r--r-- 1 root root  1255 Jul 14 21:14 Vallenato06.txt\n",
            "-rw-r--r-- 1 root root  1528 Jul 14 21:14 Vallenato07.txt\n",
            "-rw-r--r-- 1 root root  1475 Jul 14 21:14 Vallenato08.txt\n",
            "-rw-r--r-- 1 root root  1441 Jul 14 21:14 Vallenato09.txt\n",
            "-rw-r--r-- 1 root root  2129 Jul 14 15:55 Vallenato10.txt\n",
            "-rw-r--r-- 1 root root   916 Jul 16 07:54 Vallenato11.txt\n",
            "-rw-r--r-- 1 root root  1352 Jul 16 07:57 Vallenato12.txt\n",
            "-rw-r--r-- 1 root root  1313 Jul 16 09:30 Vallenato13.txt\n",
            "-rw-r--r-- 1 root root  1069 Jul 16 09:31 Vallenato14.txt\n",
            "-rw-r--r-- 1 root root  1621 Jul 16 10:09 Vallenato15.txt\n",
            "-rw-r--r-- 1 root root  1958 Jul 16 10:10 Vallenato16.txt\n",
            "-rw-r--r-- 1 root root   792 Jul 16 10:10 Vallenato17.txt\n",
            "-rw-r--r-- 1 root root  1440 Jul 16 10:11 Vallenato18.txt\n",
            "-rw-r--r-- 1 root root  2445 Jul 16 10:11 Vallenato19.txt\n",
            "-rw-r--r-- 1 root root  1376 Jul 16 10:13 Vallenato20.txt\n",
            "-rw-r--r-- 1 root root  2043 Jul 16 10:15 Vallenato21.txt\n",
            "-rw-r--r-- 1 root root  1468 Jul 16 10:15 Vallenato22.txt\n",
            "-rw-r--r-- 1 root root  1963 Jul 16 10:16 Vallenato23.txt\n",
            "-rw-r--r-- 1 root root  1342 Jul 16 10:18 Vallenato24.txt\n",
            "-rw-r--r-- 1 root root  1246 Jul 16 10:20 Vallenato25.txt\n",
            "-rw-r--r-- 1 root root  1442 Jul 16 10:19 Vallenato26.txt\n",
            "-rw-r--r-- 1 root root  1556 Jul 16 10:20 Vallenato27.txt\n",
            "-rw-r--r-- 1 root root  1893 Jul 16 10:21 Vallenato28.txt\n",
            "-rw-r--r-- 1 root root  1147 Jul 16 10:21 Vallenato29.txt\n",
            "-rw-r--r-- 1 root root  1621 Jul 16 10:16 Vallenato30.txt\n"
          ],
          "name": "stdout"
        }
      ]
    },
    {
      "cell_type": "markdown",
      "metadata": {
        "id": "XpXtD7aPwDvi"
      },
      "source": [
        "##Funciones de preprocesamiento de los datos(tokenizacion, remover stop words, lematizacion, normalizacion en general)"
      ]
    },
    {
      "cell_type": "code",
      "metadata": {
        "id": "2I_EGfdqeTKX"
      },
      "source": [
        "def normalize_tildes(string):\n",
        "    replacements = (\n",
        "        (\"á\", \"a\"),\n",
        "        (\"é\", \"e\"),\n",
        "        (\"í\", \"i\"),\n",
        "        (\"ó\", \"o\"),\n",
        "        (\"ú\", \"u\"),\n",
        "    )\n",
        "    for a, b in replacements:\n",
        "        string = string.replace(a, b).replace(a.upper(), b.upper())\n",
        "    return string\n",
        "\n",
        "def remove_non_ascii(words):\n",
        "    \"\"\"Remover caracteres que son son ASCII de la lista de palabras tokenizadas\"\"\"\n",
        "    new_words = []\n",
        "    for word in range(len(words)):\n",
        "        new_word = unicodedata.normalize('NFD', words[word]).encode('utf-8').decode('ascii', 'ignore')\n",
        "        new_words.append(new_word)\n",
        "    return new_words\n",
        "\n",
        "def to_lowercase(words):\n",
        "    \"\"\"Convierte todos los caracteres a minuscula de una lista de tokens\"\"\"\n",
        "    new_words = []\n",
        "    for word in words:\n",
        "        new_word = word.lower()\n",
        "        new_words.append(new_word)\n",
        "    return new_words\n",
        "\n",
        "def remove_punctuation(words):\n",
        "    \"\"\"Remueve la puntuacion de una lista de tokens\"\"\"\n",
        "    new_words = []\n",
        "    for word in words:\n",
        "        new_word = re.sub(r'[^\\w\\s]', '', word)\n",
        "        if new_word != '':\n",
        "            new_words.append(new_word)\n",
        "    return new_words\n",
        "\n",
        "def replace_numbers(words):\n",
        "    \"\"\"Reemplaza todos los numeros a su representacion textual\"\"\"\n",
        "    p = inflect.engine()\n",
        "    new_words = []\n",
        "    for word in words:\n",
        "        if word.isdigit():\n",
        "            new_word = p.number_to_words(word)\n",
        "            new_words.append(new_word)\n",
        "        else:\n",
        "            new_words.append(word)\n",
        "    return new_words\n",
        "\n",
        "def remove_stopwords(words):\n",
        "    \"\"\"Remueve stopwords\"\"\"\n",
        "    new_words = []\n",
        "    for word in words:\n",
        "      if len(word)>3:\n",
        "        new_words.append(word)\n",
        "      if word not in stopwords.words('spanish'):\n",
        "        new_words.append(word)\n",
        "    return new_words\n",
        "\n",
        "def stem_words(words):\n",
        "    \"\"\"Stemmming de palabras de una lista de tokens\"\"\"\n",
        "    stemmer = LancasterStemmer()\n",
        "    stems = []\n",
        "    for word in words:\n",
        "        stem = stemmer.stem(word)\n",
        "        stems.append(stem)\n",
        "    return stems\n",
        "\n",
        "def lemmatize_verbs(words):\n",
        "    \"\"\"lemmatizacion a los verbos de una lista de tokens\"\"\"\n",
        "    lemmatizer = WordNetLemmatizer()\n",
        "    lemmas = []\n",
        "    for word in words:\n",
        "        lemma = lemmatizer.lemmatize(word, pos='v')\n",
        "        lemmas.append(lemma)\n",
        "    return lemmas\n",
        "  \n",
        "def stem(words):\n",
        "    stems = stem_words(words)\n",
        "    return stems\n",
        "  \n",
        "def lemmatize(words):\n",
        "    lemmas = lemmatize_verbs(words)\n",
        "    return lemmas\n",
        "  \n",
        "def normalize(words):\n",
        "    words = to_lowercase(words)\n",
        "    words = remove_non_ascii(words)\n",
        "    words = remove_punctuation(words)\n",
        "    words = replace_numbers(words)\n",
        "    words = remove_stopwords(words)\n",
        "    words = lemmatize(words)\n",
        "    return words\n",
        "  \n",
        "def normalizeStem(words):\n",
        "    words = remove_non_ascii(words)\n",
        "    words = to_lowercase(words)\n",
        "    words = remove_punctuation(words)\n",
        "    words = replace_numbers(words)\n",
        "    words = remove_stopwords(words)\n",
        "    words = stem(words)\n",
        "    return words"
      ],
      "execution_count": null,
      "outputs": []
    },
    {
      "cell_type": "markdown",
      "metadata": {
        "id": "mjiJYmBt6g1V"
      },
      "source": [
        "##Extraccion de caracteristicas para el modelo"
      ]
    },
    {
      "cell_type": "code",
      "metadata": {
        "id": "jhE3FWIoemBO"
      },
      "source": [
        "Cancion_path = 'Canciones/Bambuco02.txt'"
      ],
      "execution_count": null,
      "outputs": []
    },
    {
      "cell_type": "markdown",
      "metadata": {
        "id": "S_uGt-QpXIiR"
      },
      "source": [
        "###Cantidad de lineas de un documento"
      ]
    },
    {
      "cell_type": "code",
      "metadata": {
        "id": "d-7t1kYNesom"
      },
      "source": [
        "archivo = open(Cancion_path, \"r\", encoding='latin-1')"
      ],
      "execution_count": null,
      "outputs": []
    },
    {
      "cell_type": "code",
      "metadata": {
        "id": "VjdUnaV2_7aG",
        "outputId": "db916bb8-359e-4af8-8de9-613eb68763ee",
        "colab": {
          "base_uri": "https://localhost:8080/",
          "height": 34
        }
      },
      "source": [
        "lineas = len(archivo.readlines())\n",
        "lineas"
      ],
      "execution_count": null,
      "outputs": [
        {
          "output_type": "execute_result",
          "data": {
            "text/plain": [
              "29"
            ]
          },
          "metadata": {
            "tags": []
          },
          "execution_count": 8
        }
      ]
    },
    {
      "cell_type": "markdown",
      "metadata": {
        "id": "f9oClhbnXYxe"
      },
      "source": [
        "###Tokenizamos el documento para extraer mas caracteristicas"
      ]
    },
    {
      "cell_type": "code",
      "metadata": {
        "id": "wWQYOysFDnNY"
      },
      "source": [
        "archivo = open(Cancion_path, \"r\", encoding='latin-1')"
      ],
      "execution_count": null,
      "outputs": []
    },
    {
      "cell_type": "code",
      "metadata": {
        "id": "0SBE775ECgQX",
        "outputId": "68b46517-c929-453d-e600-fb134cea3b34",
        "colab": {
          "base_uri": "https://localhost:8080/",
          "height": 54
        }
      },
      "source": [
        "words = nltk.word_tokenize(archivo.read())\n",
        "print(words)"
      ],
      "execution_count": null,
      "outputs": [
        {
          "output_type": "stream",
          "text": [
            "['Adoro', 'Nina', 'tus', 'Ojos', 'Adoro', 'nina', 'tus', 'ojos', 'porque', 'retratan', 'los', 'cielos', '.', 'Me', 'gustan', 'tus', 'labios', 'rojos', 'porque', 'a', 'la', 'miel', 'le', 'dan', 'celos', '.', 'me', 'gustan', 'tus', 'labios', 'rojos', 'porque', 'a', 'la', 'miel', 'le', 'dan', 'celos', '.', 'Adoro', 'nina', 'tus', 'ojos', 'porque', 'retratan', 'los', 'cielos', '.', 'Me', 'dan', 'envidia', 'los', 'cielos', 'porque', 'viven', 'en', 'tus', 'ojos', 'y', 'la', 'miel', 'me', 'causa', 'celos', 'porque', 'esta', 'en', 'tus', 'labios', 'rojos', '.', 'Y', 'la', 'miel', 'me', 'causa', 'celos', 'porque', 'esta', 'en', 'tus', 'labios', 'rojos', '.', 'Ante', 'el', 'cielo', 'de', 'tus', 'ojos', 'y', 'el', 'misterio', 'de', 'tus', 'labios', 'esta', 'la', 'ciencia', 'de', 'hinojos', 'y', 'estan', 'absortos', 'los', 'sabios', '.', 'esta', 'la', 'ciencia', 'de', 'hinojos', 'y', 'estan', 'absortos', 'los', 'sabios', '.', 'Ante', 'el', 'cielo', 'de', 'tus', 'ojos', 'y', 'el', 'misterio', 'de', 'tus', 'labios', '.', 'Por', 'eso', 'al', 'verme', 'de', 'hinojos', 'que', 'muero', 'dicen', 'los', 'sabios', 'si', 'no', 'me', 'miran', 'tus', 'ojos', ',', 'si', 'no', 'me', 'besan', 'tus', 'labios', '.', 'Si', 'no', 'me', 'miran', 'tus', 'ojos', ',', 'si', 'no', 'me', 'besan', 'tus', 'labios', '.']\n"
          ],
          "name": "stdout"
        }
      ]
    },
    {
      "cell_type": "markdown",
      "metadata": {
        "id": "W6txXYGmXRvU"
      },
      "source": [
        "###Numero de caracteres de un documento"
      ]
    },
    {
      "cell_type": "code",
      "metadata": {
        "id": "L0c8dbU4Ewpn"
      },
      "source": [
        "archivo = open(Cancion_path, \"r\", encoding='latin-1')"
      ],
      "execution_count": null,
      "outputs": []
    },
    {
      "cell_type": "code",
      "metadata": {
        "id": "0lyzHckuExua"
      },
      "source": [
        "def numCaracteres(words):\n",
        "  num = 0\n",
        "  for word in words:\n",
        "    num += len(word)\n",
        "  return num"
      ],
      "execution_count": null,
      "outputs": []
    },
    {
      "cell_type": "code",
      "metadata": {
        "id": "uABKwaUqFQDE",
        "outputId": "fcfa89b3-1515-40da-ad01-b6a4b87781dd",
        "colab": {
          "base_uri": "https://localhost:8080/",
          "height": 34
        }
      },
      "source": [
        "numCaracteres(words)"
      ],
      "execution_count": null,
      "outputs": [
        {
          "output_type": "execute_result",
          "data": {
            "text/plain": [
              "622"
            ]
          },
          "metadata": {
            "tags": []
          },
          "execution_count": 13
        }
      ]
    },
    {
      "cell_type": "markdown",
      "metadata": {
        "id": "Gm8ZsmaYXekB"
      },
      "source": [
        "###Numero de palabras del documento"
      ]
    },
    {
      "cell_type": "code",
      "metadata": {
        "id": "h2m9FZHcDEs-",
        "outputId": "e02a3e8b-4988-4b14-9b8e-1a7464a05a7c",
        "colab": {
          "base_uri": "https://localhost:8080/",
          "height": 34
        }
      },
      "source": [
        "words = remove_non_ascii(words)\n",
        "words = remove_punctuation(words)\n",
        "print(len(words))"
      ],
      "execution_count": null,
      "outputs": [
        {
          "output_type": "stream",
          "text": [
            "157\n"
          ],
          "name": "stdout"
        }
      ]
    },
    {
      "cell_type": "markdown",
      "metadata": {
        "id": "gXkXZwv-Xi36"
      },
      "source": [
        "###Numero de palabras unicas del documento"
      ]
    },
    {
      "cell_type": "code",
      "metadata": {
        "id": "nCxrNCtMDsTs",
        "outputId": "926be10b-43a6-4d13-9fea-2fd11376bcb4",
        "colab": {
          "base_uri": "https://localhost:8080/",
          "height": 34
        }
      },
      "source": [
        "diccionario = dict.fromkeys(words).keys()\n",
        "len(diccionario)"
      ],
      "execution_count": null,
      "outputs": [
        {
          "output_type": "execute_result",
          "data": {
            "text/plain": [
              "50"
            ]
          },
          "metadata": {
            "tags": []
          },
          "execution_count": 15
        }
      ]
    },
    {
      "cell_type": "code",
      "metadata": {
        "id": "QF2ped8XDmF-"
      },
      "source": [
        "archivo = open(Cancion_path, \"r\", encoding='latin-1')"
      ],
      "execution_count": null,
      "outputs": []
    },
    {
      "cell_type": "code",
      "metadata": {
        "id": "8WCb6ICyeWk2",
        "outputId": "17a6006c-b080-4e73-a5a0-1fe705a6f59c",
        "colab": {
          "base_uri": "https://localhost:8080/",
          "height": 54
        }
      },
      "source": [
        "words = nltk.word_tokenize(archivo.read())\n",
        "words = normalize(words)\n",
        "print(words)"
      ],
      "execution_count": null,
      "outputs": [
        {
          "output_type": "stream",
          "text": [
            "['adoro', 'adoro', 'nina', 'nina', 'ojos', 'ojos', 'adoro', 'adoro', 'nina', 'nina', 'ojos', 'ojos', 'porque', 'retratan', 'retratan', 'cielos', 'cielos', 'gustan', 'gustan', 'labios', 'labios', 'rojos', 'rojos', 'porque', 'miel', 'miel', 'dan', 'celos', 'celos', 'gustan', 'gustan', 'labios', 'labios', 'rojos', 'rojos', 'porque', 'miel', 'miel', 'dan', 'celos', 'celos', 'adoro', 'adoro', 'nina', 'nina', 'ojos', 'ojos', 'porque', 'retratan', 'retratan', 'cielos', 'cielos', 'dan', 'envidia', 'envidia', 'cielos', 'cielos', 'porque', 'viven', 'viven', 'ojos', 'ojos', 'miel', 'miel', 'causa', 'causa', 'celos', 'celos', 'porque', 'esta', 'labios', 'labios', 'rojos', 'rojos', 'miel', 'miel', 'causa', 'causa', 'celos', 'celos', 'porque', 'esta', 'labios', 'labios', 'rojos', 'rojos', 'ante', 'cielo', 'cielo', 'ojos', 'ojos', 'misterio', 'misterio', 'labios', 'labios', 'esta', 'ciencia', 'ciencia', 'hinojos', 'hinojos', 'estan', 'estan', 'absortos', 'absortos', 'sabios', 'sabios', 'esta', 'ciencia', 'ciencia', 'hinojos', 'hinojos', 'estan', 'estan', 'absortos', 'absortos', 'sabios', 'sabios', 'ante', 'cielo', 'cielo', 'ojos', 'ojos', 'misterio', 'misterio', 'labios', 'labios', 'verme', 'verme', 'hinojos', 'hinojos', 'muero', 'muero', 'dicen', 'dicen', 'sabios', 'sabios', 'si', 'miran', 'miran', 'ojos', 'ojos', 'si', 'besan', 'besan', 'labios', 'labios', 'si', 'miran', 'miran', 'ojos', 'ojos', 'si', 'besan', 'besan', 'labios', 'labios']\n"
          ],
          "name": "stdout"
        }
      ]
    },
    {
      "cell_type": "code",
      "metadata": {
        "id": "VXoxywgM-5JX",
        "outputId": "e772429b-9efb-4a82-8612-73937825bec7",
        "colab": {
          "base_uri": "https://localhost:8080/",
          "height": 34
        }
      },
      "source": [
        "len(words)"
      ],
      "execution_count": null,
      "outputs": [
        {
          "output_type": "execute_result",
          "data": {
            "text/plain": [
              "156"
            ]
          },
          "metadata": {
            "tags": []
          },
          "execution_count": 18
        }
      ]
    },
    {
      "cell_type": "code",
      "metadata": {
        "id": "jjzC1Nay_U6f",
        "outputId": "207f2281-5227-4d3b-bd7c-6578864edf94",
        "colab": {
          "base_uri": "https://localhost:8080/",
          "height": 34
        }
      },
      "source": [
        "diccionario = dict.fromkeys(words).keys()\n",
        "len(diccionario)"
      ],
      "execution_count": null,
      "outputs": [
        {
          "output_type": "execute_result",
          "data": {
            "text/plain": [
              "30"
            ]
          },
          "metadata": {
            "tags": []
          },
          "execution_count": 19
        }
      ]
    },
    {
      "cell_type": "markdown",
      "metadata": {
        "id": "klrycNvaXtPh"
      },
      "source": [
        "###Analisis de sentimiento"
      ]
    },
    {
      "cell_type": "code",
      "metadata": {
        "id": "QXXCcu3jJ3nY"
      },
      "source": [
        "archivo = open(Cancion_path, \"r\", encoding='latin-1')"
      ],
      "execution_count": null,
      "outputs": []
    },
    {
      "cell_type": "code",
      "metadata": {
        "id": "6DhF4hEmHw6I"
      },
      "source": [
        "from textblob import TextBlob"
      ],
      "execution_count": null,
      "outputs": []
    },
    {
      "cell_type": "code",
      "metadata": {
        "id": "2vywpv63Hw4D",
        "outputId": "98ad7611-60f8-4547-c787-99cc7797917f",
        "colab": {
          "base_uri": "https://localhost:8080/",
          "height": 51
        }
      },
      "source": [
        "analysis = TextBlob(archivo.read())\n",
        "print(analysis.sentiment)\n",
        "traduccion = analysis.translate(from_lang='es',to='en')\n",
        "print(traduccion.sentiment)"
      ],
      "execution_count": null,
      "outputs": [
        {
          "output_type": "stream",
          "text": [
            "Sentiment(polarity=0.0, subjectivity=0.0)\n",
            "Sentiment(polarity=0.33356643356643356, subjectivity=0.5230769230769231)\n"
          ],
          "name": "stdout"
        }
      ]
    },
    {
      "cell_type": "code",
      "metadata": {
        "id": "N_Un4MsbNQF_",
        "outputId": "fcc0601d-3621-40ae-d2bb-9b07ab6388e3",
        "colab": {
          "base_uri": "https://localhost:8080/",
          "height": 34
        }
      },
      "source": [
        "print(traduccion.sentiment.polarity)"
      ],
      "execution_count": null,
      "outputs": [
        {
          "output_type": "stream",
          "text": [
            "0.33356643356643356\n"
          ],
          "name": "stdout"
        }
      ]
    },
    {
      "cell_type": "code",
      "metadata": {
        "id": "pt8uOOsfLuwJ",
        "outputId": "3776dd60-eed4-450c-aaff-d42b55f7b26a",
        "colab": {
          "base_uri": "https://localhost:8080/",
          "height": 510
        }
      },
      "source": [
        "print(traduccion)"
      ],
      "execution_count": null,
      "outputs": [
        {
          "output_type": "stream",
          "text": [
            "I love Nina your Eyes\n",
            "I love your eyes\n",
            "because they portray the heavens.\n",
            "I like your red lips\n",
            "because they give jealousy to honey.\n",
            "I like your red lips\n",
            "because they give jealousy to honey.\n",
            "I love your eyes\n",
            "because they portray the heavens.\n",
            "I envy the heavens\n",
            "because they live in your eyes\n",
            "and honey causes me jealousy\n",
            "because it is on your red lips.\n",
            "And honey causes jealousy\n",
            "because it is on your red lips.\n",
            "Before the sky of your eyes\n",
            "and the mystery of your lips\n",
            "is the fennel science\n",
            "and the wise are absorbed.\n",
            "is the fennel science\n",
            "and the wise are absorbed.\n",
            "Before the sky of your eyes\n",
            "and the mystery of your lips.\n",
            "That's why when I see myself on fennels\n",
            "I die, the wise say\n",
            "If your eyes do not look at me,\n",
            "if your lips do not kiss me.\n",
            "If your eyes do not look at me,\n",
            "if your lips do not kiss me.\n"
          ],
          "name": "stdout"
        }
      ]
    },
    {
      "cell_type": "markdown",
      "metadata": {
        "id": "6NKqkvqLvqcJ"
      },
      "source": [
        "##Creando el dataset con caracteristicas"
      ]
    },
    {
      "cell_type": "code",
      "metadata": {
        "id": "u2vLMqUNT45S"
      },
      "source": [
        "header = 'filename PalabrasPorLinea PalabrasUnicasPorLinea RazonPalabrasUnicas CaracteresPorPalabra Sentimiento'\n",
        "header += ' label'\n",
        "header = header.split()"
      ],
      "execution_count": null,
      "outputs": []
    },
    {
      "cell_type": "code",
      "metadata": {
        "id": "We_7yBWKSFLu"
      },
      "source": [
        "file = open('data.csv', 'w', newline='')\n",
        "with file:\n",
        "    writer = csv.writer(file)\n",
        "    writer.writerow(header)\n",
        "    \n",
        "genres = 'bambuco carranga cumbia joropo pasillo vallenato'.split()\n",
        "\n",
        "for filename in os.listdir(f'./Canciones/'):\n",
        "  file = open('data.csv', 'a', newline='')\n",
        "  archivo = open(f'./Canciones/{filename}', \"r\", encoding='latin-1')\n",
        "  lineas = len(archivo.readline())\n",
        "  archivo = open(f'./Canciones/{filename}', \"r\", encoding='latin-1')\n",
        "  palabras = nltk.word_tokenize(archivo.read())\n",
        "  palabras = remove_non_ascii(palabras)\n",
        "  palabras = remove_punctuation(palabras)\n",
        "  palabrasNum = len(palabras)\n",
        "  caracteres = numCaracteres(palabras)\n",
        "  diccionario = dict.fromkeys(words).keys()\n",
        "  archivo = open(f'./Canciones/{filename}', \"r\", encoding='latin-1')\n",
        "  analysis = TextBlob(archivo.read())\n",
        "  traduccion = analysis.translate(from_lang='es',to='en')\n",
        "  palabrasU = len(diccionario)\n",
        "  PalabrasXLinea = palabrasNum/lineas\n",
        "  PalabrasUXLinea = palabrasU/lineas\n",
        "  RazonPalabrasU = palabrasU/palabrasNum\n",
        "  CaracteresXPalabra = caracteres/palabrasNum\n",
        "  ASentimiento = traduccion.sentiment.polarity\n",
        "  to_append = f'{filename} {PalabrasXLinea} {PalabrasUXLinea} {RazonPalabrasU} {CaracteresXPalabra} {ASentimiento} {filename[:-6].replace(\".\", \"\")}'\n",
        "  with file:\n",
        "    writer = csv.writer(file)\n",
        "    writer.writerow(to_append.split())\n"
      ],
      "execution_count": null,
      "outputs": []
    },
    {
      "cell_type": "code",
      "metadata": {
        "id": "e4bmwR08VsSH",
        "outputId": "4e3c85d0-1f78-4208-c79b-ff28eeb2e395",
        "colab": {
          "base_uri": "https://localhost:8080/",
          "height": 1000
        }
      },
      "source": [
        "data = pd.read_csv('data.csv', error_bad_lines=False)\n",
        "data"
      ],
      "execution_count": null,
      "outputs": [
        {
          "output_type": "execute_result",
          "data": {
            "text/html": [
              "<div>\n",
              "<style scoped>\n",
              "    .dataframe tbody tr th:only-of-type {\n",
              "        vertical-align: middle;\n",
              "    }\n",
              "\n",
              "    .dataframe tbody tr th {\n",
              "        vertical-align: top;\n",
              "    }\n",
              "\n",
              "    .dataframe thead th {\n",
              "        text-align: right;\n",
              "    }\n",
              "</style>\n",
              "<table border=\"1\" class=\"dataframe\">\n",
              "  <thead>\n",
              "    <tr style=\"text-align: right;\">\n",
              "      <th></th>\n",
              "      <th>filename</th>\n",
              "      <th>PalabrasPorLinea</th>\n",
              "      <th>PalabrasUnicasPorLinea</th>\n",
              "      <th>RazonPalabrasUnicas</th>\n",
              "      <th>CaracteresPorPalabra</th>\n",
              "      <th>Sentimiento</th>\n",
              "      <th>label</th>\n",
              "    </tr>\n",
              "  </thead>\n",
              "  <tbody>\n",
              "    <tr>\n",
              "      <th>0</th>\n",
              "      <td>Vallenato18.txt</td>\n",
              "      <td>15.235294</td>\n",
              "      <td>1.764706</td>\n",
              "      <td>0.115830</td>\n",
              "      <td>4.262548</td>\n",
              "      <td>0.314756</td>\n",
              "      <td>Vallenato</td>\n",
              "    </tr>\n",
              "    <tr>\n",
              "      <th>1</th>\n",
              "      <td>Joropo14.txt</td>\n",
              "      <td>8.785714</td>\n",
              "      <td>2.142857</td>\n",
              "      <td>0.243902</td>\n",
              "      <td>4.341463</td>\n",
              "      <td>0.273661</td>\n",
              "      <td>Joropo</td>\n",
              "    </tr>\n",
              "    <tr>\n",
              "      <th>2</th>\n",
              "      <td>Carranga14.txt</td>\n",
              "      <td>7.105263</td>\n",
              "      <td>1.578947</td>\n",
              "      <td>0.222222</td>\n",
              "      <td>4.437037</td>\n",
              "      <td>0.287798</td>\n",
              "      <td>Carranga</td>\n",
              "    </tr>\n",
              "    <tr>\n",
              "      <th>3</th>\n",
              "      <td>Cumbia30.txt</td>\n",
              "      <td>22.833333</td>\n",
              "      <td>1.666667</td>\n",
              "      <td>0.072993</td>\n",
              "      <td>3.362530</td>\n",
              "      <td>-0.152976</td>\n",
              "      <td>Cumbia</td>\n",
              "    </tr>\n",
              "    <tr>\n",
              "      <th>4</th>\n",
              "      <td>Cumbia14.txt</td>\n",
              "      <td>7.666667</td>\n",
              "      <td>2.500000</td>\n",
              "      <td>0.326087</td>\n",
              "      <td>4.619565</td>\n",
              "      <td>-0.141944</td>\n",
              "      <td>Cumbia</td>\n",
              "    </tr>\n",
              "    <tr>\n",
              "      <th>5</th>\n",
              "      <td>Carranga23.txt</td>\n",
              "      <td>2.887097</td>\n",
              "      <td>0.483871</td>\n",
              "      <td>0.167598</td>\n",
              "      <td>4.240223</td>\n",
              "      <td>-0.194345</td>\n",
              "      <td>Carranga</td>\n",
              "    </tr>\n",
              "    <tr>\n",
              "      <th>6</th>\n",
              "      <td>Vallenato06.txt</td>\n",
              "      <td>5.636364</td>\n",
              "      <td>0.681818</td>\n",
              "      <td>0.120968</td>\n",
              "      <td>3.927419</td>\n",
              "      <td>0.298082</td>\n",
              "      <td>Vallenato</td>\n",
              "    </tr>\n",
              "    <tr>\n",
              "      <th>7</th>\n",
              "      <td>Vallenato17.txt</td>\n",
              "      <td>40.500000</td>\n",
              "      <td>7.500000</td>\n",
              "      <td>0.185185</td>\n",
              "      <td>3.543210</td>\n",
              "      <td>0.315000</td>\n",
              "      <td>Vallenato</td>\n",
              "    </tr>\n",
              "    <tr>\n",
              "      <th>8</th>\n",
              "      <td>Joropo25.txt</td>\n",
              "      <td>16.454545</td>\n",
              "      <td>2.727273</td>\n",
              "      <td>0.165746</td>\n",
              "      <td>3.889503</td>\n",
              "      <td>0.442857</td>\n",
              "      <td>Joropo</td>\n",
              "    </tr>\n",
              "    <tr>\n",
              "      <th>9</th>\n",
              "      <td>Bambuco16.txt</td>\n",
              "      <td>7.411765</td>\n",
              "      <td>1.764706</td>\n",
              "      <td>0.238095</td>\n",
              "      <td>4.412698</td>\n",
              "      <td>0.220000</td>\n",
              "      <td>Bambuco</td>\n",
              "    </tr>\n",
              "    <tr>\n",
              "      <th>10</th>\n",
              "      <td>Carranga06.txt</td>\n",
              "      <td>8.500000</td>\n",
              "      <td>1.500000</td>\n",
              "      <td>0.176471</td>\n",
              "      <td>4.176471</td>\n",
              "      <td>0.339062</td>\n",
              "      <td>Carranga</td>\n",
              "    </tr>\n",
              "    <tr>\n",
              "      <th>11</th>\n",
              "      <td>Carranga07.txt</td>\n",
              "      <td>15.230769</td>\n",
              "      <td>2.307692</td>\n",
              "      <td>0.151515</td>\n",
              "      <td>4.040404</td>\n",
              "      <td>0.042892</td>\n",
              "      <td>Carranga</td>\n",
              "    </tr>\n",
              "    <tr>\n",
              "      <th>12</th>\n",
              "      <td>Cumbia24.txt</td>\n",
              "      <td>12.153846</td>\n",
              "      <td>2.307692</td>\n",
              "      <td>0.189873</td>\n",
              "      <td>4.037975</td>\n",
              "      <td>0.466667</td>\n",
              "      <td>Cumbia</td>\n",
              "    </tr>\n",
              "    <tr>\n",
              "      <th>13</th>\n",
              "      <td>Cumbia08.txt</td>\n",
              "      <td>10.222222</td>\n",
              "      <td>3.333333</td>\n",
              "      <td>0.326087</td>\n",
              "      <td>3.934783</td>\n",
              "      <td>0.171429</td>\n",
              "      <td>Cumbia</td>\n",
              "    </tr>\n",
              "    <tr>\n",
              "      <th>14</th>\n",
              "      <td>Bambuco02.txt</td>\n",
              "      <td>7.850000</td>\n",
              "      <td>1.500000</td>\n",
              "      <td>0.191083</td>\n",
              "      <td>3.878981</td>\n",
              "      <td>0.333566</td>\n",
              "      <td>Bambuco</td>\n",
              "    </tr>\n",
              "    <tr>\n",
              "      <th>15</th>\n",
              "      <td>Carranga25.txt</td>\n",
              "      <td>6.000000</td>\n",
              "      <td>0.857143</td>\n",
              "      <td>0.142857</td>\n",
              "      <td>4.176190</td>\n",
              "      <td>-0.129167</td>\n",
              "      <td>Carranga</td>\n",
              "    </tr>\n",
              "    <tr>\n",
              "      <th>16</th>\n",
              "      <td>Cumbia10.txt</td>\n",
              "      <td>3.400000</td>\n",
              "      <td>0.750000</td>\n",
              "      <td>0.220588</td>\n",
              "      <td>4.573529</td>\n",
              "      <td>0.187500</td>\n",
              "      <td>Cumbia</td>\n",
              "    </tr>\n",
              "    <tr>\n",
              "      <th>17</th>\n",
              "      <td>Bambuco15.txt</td>\n",
              "      <td>3.909091</td>\n",
              "      <td>1.363636</td>\n",
              "      <td>0.348837</td>\n",
              "      <td>5.069767</td>\n",
              "      <td>0.383929</td>\n",
              "      <td>Bambuco</td>\n",
              "    </tr>\n",
              "    <tr>\n",
              "      <th>18</th>\n",
              "      <td>Bambuco26.txt</td>\n",
              "      <td>12.666667</td>\n",
              "      <td>3.333333</td>\n",
              "      <td>0.263158</td>\n",
              "      <td>4.280702</td>\n",
              "      <td>0.260227</td>\n",
              "      <td>Bambuco</td>\n",
              "    </tr>\n",
              "    <tr>\n",
              "      <th>19</th>\n",
              "      <td>Bambuco01.txt</td>\n",
              "      <td>7.884615</td>\n",
              "      <td>1.153846</td>\n",
              "      <td>0.146341</td>\n",
              "      <td>4.273171</td>\n",
              "      <td>-0.079592</td>\n",
              "      <td>Bambuco</td>\n",
              "    </tr>\n",
              "    <tr>\n",
              "      <th>20</th>\n",
              "      <td>Joropo10.txt</td>\n",
              "      <td>3.829268</td>\n",
              "      <td>0.731707</td>\n",
              "      <td>0.191083</td>\n",
              "      <td>4.675159</td>\n",
              "      <td>0.046689</td>\n",
              "      <td>Joropo</td>\n",
              "    </tr>\n",
              "    <tr>\n",
              "      <th>21</th>\n",
              "      <td>Bambuco07.txt</td>\n",
              "      <td>4.333333</td>\n",
              "      <td>1.111111</td>\n",
              "      <td>0.256410</td>\n",
              "      <td>4.102564</td>\n",
              "      <td>0.333333</td>\n",
              "      <td>Bambuco</td>\n",
              "    </tr>\n",
              "    <tr>\n",
              "      <th>22</th>\n",
              "      <td>Carranga30.txt</td>\n",
              "      <td>9.900000</td>\n",
              "      <td>1.500000</td>\n",
              "      <td>0.151515</td>\n",
              "      <td>3.974747</td>\n",
              "      <td>0.057917</td>\n",
              "      <td>Carranga</td>\n",
              "    </tr>\n",
              "    <tr>\n",
              "      <th>23</th>\n",
              "      <td>Joropo11.txt</td>\n",
              "      <td>19.750000</td>\n",
              "      <td>3.750000</td>\n",
              "      <td>0.189873</td>\n",
              "      <td>4.367089</td>\n",
              "      <td>0.131373</td>\n",
              "      <td>Joropo</td>\n",
              "    </tr>\n",
              "    <tr>\n",
              "      <th>24</th>\n",
              "      <td>Pasillo24.txt</td>\n",
              "      <td>5.000000</td>\n",
              "      <td>1.578947</td>\n",
              "      <td>0.315789</td>\n",
              "      <td>4.221053</td>\n",
              "      <td>0.250000</td>\n",
              "      <td>Pasillo</td>\n",
              "    </tr>\n",
              "    <tr>\n",
              "      <th>25</th>\n",
              "      <td>Bambuco13.txt</td>\n",
              "      <td>11.294118</td>\n",
              "      <td>1.764706</td>\n",
              "      <td>0.156250</td>\n",
              "      <td>4.088542</td>\n",
              "      <td>0.403846</td>\n",
              "      <td>Bambuco</td>\n",
              "    </tr>\n",
              "    <tr>\n",
              "      <th>26</th>\n",
              "      <td>Cumbia15.txt</td>\n",
              "      <td>6.842105</td>\n",
              "      <td>1.578947</td>\n",
              "      <td>0.230769</td>\n",
              "      <td>4.461538</td>\n",
              "      <td>0.262500</td>\n",
              "      <td>Cumbia</td>\n",
              "    </tr>\n",
              "    <tr>\n",
              "      <th>27</th>\n",
              "      <td>Vallenato28.txt</td>\n",
              "      <td>21.058824</td>\n",
              "      <td>1.764706</td>\n",
              "      <td>0.083799</td>\n",
              "      <td>4.036313</td>\n",
              "      <td>0.381250</td>\n",
              "      <td>Vallenato</td>\n",
              "    </tr>\n",
              "    <tr>\n",
              "      <th>28</th>\n",
              "      <td>Carranga20.txt</td>\n",
              "      <td>5.226415</td>\n",
              "      <td>0.566038</td>\n",
              "      <td>0.108303</td>\n",
              "      <td>4.072202</td>\n",
              "      <td>-0.028704</td>\n",
              "      <td>Carranga</td>\n",
              "    </tr>\n",
              "    <tr>\n",
              "      <th>29</th>\n",
              "      <td>Carranga26.txt</td>\n",
              "      <td>5.413043</td>\n",
              "      <td>0.652174</td>\n",
              "      <td>0.120482</td>\n",
              "      <td>3.795181</td>\n",
              "      <td>0.009804</td>\n",
              "      <td>Carranga</td>\n",
              "    </tr>\n",
              "    <tr>\n",
              "      <th>...</th>\n",
              "      <td>...</td>\n",
              "      <td>...</td>\n",
              "      <td>...</td>\n",
              "      <td>...</td>\n",
              "      <td>...</td>\n",
              "      <td>...</td>\n",
              "      <td>...</td>\n",
              "    </tr>\n",
              "    <tr>\n",
              "      <th>150</th>\n",
              "      <td>Pasillo09.txt</td>\n",
              "      <td>7.000000</td>\n",
              "      <td>1.875000</td>\n",
              "      <td>0.267857</td>\n",
              "      <td>4.151786</td>\n",
              "      <td>0.249802</td>\n",
              "      <td>Pasillo</td>\n",
              "    </tr>\n",
              "    <tr>\n",
              "      <th>151</th>\n",
              "      <td>Joropo30.txt</td>\n",
              "      <td>22.680000</td>\n",
              "      <td>1.200000</td>\n",
              "      <td>0.052910</td>\n",
              "      <td>4.680776</td>\n",
              "      <td>0.030556</td>\n",
              "      <td>Joropo</td>\n",
              "    </tr>\n",
              "    <tr>\n",
              "      <th>152</th>\n",
              "      <td>Cumbia02.txt</td>\n",
              "      <td>4.810811</td>\n",
              "      <td>0.810811</td>\n",
              "      <td>0.168539</td>\n",
              "      <td>3.977528</td>\n",
              "      <td>0.009857</td>\n",
              "      <td>Cumbia</td>\n",
              "    </tr>\n",
              "    <tr>\n",
              "      <th>153</th>\n",
              "      <td>Pasillo05.txt</td>\n",
              "      <td>6.315789</td>\n",
              "      <td>1.578947</td>\n",
              "      <td>0.250000</td>\n",
              "      <td>4.350000</td>\n",
              "      <td>0.175758</td>\n",
              "      <td>Pasillo</td>\n",
              "    </tr>\n",
              "    <tr>\n",
              "      <th>154</th>\n",
              "      <td>Vallenato01.txt</td>\n",
              "      <td>13.000000</td>\n",
              "      <td>2.142857</td>\n",
              "      <td>0.164835</td>\n",
              "      <td>3.939560</td>\n",
              "      <td>0.055000</td>\n",
              "      <td>Vallenato</td>\n",
              "    </tr>\n",
              "    <tr>\n",
              "      <th>155</th>\n",
              "      <td>Vallenato20.txt</td>\n",
              "      <td>6.710526</td>\n",
              "      <td>0.789474</td>\n",
              "      <td>0.117647</td>\n",
              "      <td>3.874510</td>\n",
              "      <td>0.274209</td>\n",
              "      <td>Vallenato</td>\n",
              "    </tr>\n",
              "    <tr>\n",
              "      <th>156</th>\n",
              "      <td>Vallenato02.txt</td>\n",
              "      <td>16.071429</td>\n",
              "      <td>2.142857</td>\n",
              "      <td>0.133333</td>\n",
              "      <td>3.937778</td>\n",
              "      <td>0.111111</td>\n",
              "      <td>Vallenato</td>\n",
              "    </tr>\n",
              "    <tr>\n",
              "      <th>157</th>\n",
              "      <td>Vallenato08.txt</td>\n",
              "      <td>11.760000</td>\n",
              "      <td>1.200000</td>\n",
              "      <td>0.102041</td>\n",
              "      <td>3.843537</td>\n",
              "      <td>0.375800</td>\n",
              "      <td>Vallenato</td>\n",
              "    </tr>\n",
              "    <tr>\n",
              "      <th>158</th>\n",
              "      <td>Joropo01.txt</td>\n",
              "      <td>18.222222</td>\n",
              "      <td>3.333333</td>\n",
              "      <td>0.182927</td>\n",
              "      <td>3.378049</td>\n",
              "      <td>0.477778</td>\n",
              "      <td>Joropo</td>\n",
              "    </tr>\n",
              "    <tr>\n",
              "      <th>159</th>\n",
              "      <td>Joropo18.txt</td>\n",
              "      <td>12.187500</td>\n",
              "      <td>1.875000</td>\n",
              "      <td>0.153846</td>\n",
              "      <td>4.010256</td>\n",
              "      <td>0.258730</td>\n",
              "      <td>Joropo</td>\n",
              "    </tr>\n",
              "    <tr>\n",
              "      <th>160</th>\n",
              "      <td>Bambuco27.txt</td>\n",
              "      <td>5.000000</td>\n",
              "      <td>1.034483</td>\n",
              "      <td>0.206897</td>\n",
              "      <td>4.027586</td>\n",
              "      <td>0.433333</td>\n",
              "      <td>Bambuco</td>\n",
              "    </tr>\n",
              "    <tr>\n",
              "      <th>161</th>\n",
              "      <td>Pasillo02.txt</td>\n",
              "      <td>4.625000</td>\n",
              "      <td>0.937500</td>\n",
              "      <td>0.202703</td>\n",
              "      <td>4.641892</td>\n",
              "      <td>0.061455</td>\n",
              "      <td>Pasillo</td>\n",
              "    </tr>\n",
              "    <tr>\n",
              "      <th>162</th>\n",
              "      <td>Carranga12.txt</td>\n",
              "      <td>23.307692</td>\n",
              "      <td>2.307692</td>\n",
              "      <td>0.099010</td>\n",
              "      <td>3.594059</td>\n",
              "      <td>-0.082828</td>\n",
              "      <td>Carranga</td>\n",
              "    </tr>\n",
              "    <tr>\n",
              "      <th>163</th>\n",
              "      <td>Joropo05.txt</td>\n",
              "      <td>3.255814</td>\n",
              "      <td>0.697674</td>\n",
              "      <td>0.214286</td>\n",
              "      <td>4.057143</td>\n",
              "      <td>0.209683</td>\n",
              "      <td>Joropo</td>\n",
              "    </tr>\n",
              "    <tr>\n",
              "      <th>164</th>\n",
              "      <td>Pasillo23.txt</td>\n",
              "      <td>8.000000</td>\n",
              "      <td>1.875000</td>\n",
              "      <td>0.234375</td>\n",
              "      <td>4.515625</td>\n",
              "      <td>0.170000</td>\n",
              "      <td>Pasillo</td>\n",
              "    </tr>\n",
              "    <tr>\n",
              "      <th>165</th>\n",
              "      <td>Bambuco23.txt</td>\n",
              "      <td>6.000000</td>\n",
              "      <td>1.500000</td>\n",
              "      <td>0.250000</td>\n",
              "      <td>4.533333</td>\n",
              "      <td>0.179545</td>\n",
              "      <td>Bambuco</td>\n",
              "    </tr>\n",
              "    <tr>\n",
              "      <th>166</th>\n",
              "      <td>Bambuco08.txt</td>\n",
              "      <td>7.769231</td>\n",
              "      <td>2.307692</td>\n",
              "      <td>0.297030</td>\n",
              "      <td>4.722772</td>\n",
              "      <td>0.246814</td>\n",
              "      <td>Bambuco</td>\n",
              "    </tr>\n",
              "    <tr>\n",
              "      <th>167</th>\n",
              "      <td>Bambuco24.txt</td>\n",
              "      <td>9.736842</td>\n",
              "      <td>1.578947</td>\n",
              "      <td>0.162162</td>\n",
              "      <td>3.675676</td>\n",
              "      <td>0.040246</td>\n",
              "      <td>Bambuco</td>\n",
              "    </tr>\n",
              "    <tr>\n",
              "      <th>168</th>\n",
              "      <td>Vallenato24.txt</td>\n",
              "      <td>17.562500</td>\n",
              "      <td>1.875000</td>\n",
              "      <td>0.106762</td>\n",
              "      <td>3.526690</td>\n",
              "      <td>0.085354</td>\n",
              "      <td>Vallenato</td>\n",
              "    </tr>\n",
              "    <tr>\n",
              "      <th>169</th>\n",
              "      <td>Bambuco14.txt</td>\n",
              "      <td>9.473684</td>\n",
              "      <td>1.578947</td>\n",
              "      <td>0.166667</td>\n",
              "      <td>3.900000</td>\n",
              "      <td>-0.138559</td>\n",
              "      <td>Bambuco</td>\n",
              "    </tr>\n",
              "    <tr>\n",
              "      <th>170</th>\n",
              "      <td>Pasillo12.txt</td>\n",
              "      <td>11.666667</td>\n",
              "      <td>2.500000</td>\n",
              "      <td>0.214286</td>\n",
              "      <td>4.228571</td>\n",
              "      <td>0.073636</td>\n",
              "      <td>Pasillo</td>\n",
              "    </tr>\n",
              "    <tr>\n",
              "      <th>171</th>\n",
              "      <td>Carranga22.txt</td>\n",
              "      <td>5.206897</td>\n",
              "      <td>1.034483</td>\n",
              "      <td>0.198675</td>\n",
              "      <td>3.655629</td>\n",
              "      <td>-0.001250</td>\n",
              "      <td>Carranga</td>\n",
              "    </tr>\n",
              "    <tr>\n",
              "      <th>172</th>\n",
              "      <td>Cumbia22.txt</td>\n",
              "      <td>15.666667</td>\n",
              "      <td>2.500000</td>\n",
              "      <td>0.159574</td>\n",
              "      <td>4.148936</td>\n",
              "      <td>0.250000</td>\n",
              "      <td>Cumbia</td>\n",
              "    </tr>\n",
              "    <tr>\n",
              "      <th>173</th>\n",
              "      <td>Vallenato07.txt</td>\n",
              "      <td>9.687500</td>\n",
              "      <td>0.937500</td>\n",
              "      <td>0.096774</td>\n",
              "      <td>3.745161</td>\n",
              "      <td>0.079487</td>\n",
              "      <td>Vallenato</td>\n",
              "    </tr>\n",
              "    <tr>\n",
              "      <th>174</th>\n",
              "      <td>Vallenato21.txt</td>\n",
              "      <td>23.812500</td>\n",
              "      <td>1.875000</td>\n",
              "      <td>0.078740</td>\n",
              "      <td>4.167979</td>\n",
              "      <td>0.268978</td>\n",
              "      <td>Vallenato</td>\n",
              "    </tr>\n",
              "    <tr>\n",
              "      <th>175</th>\n",
              "      <td>Joropo26.txt</td>\n",
              "      <td>10.607143</td>\n",
              "      <td>1.071429</td>\n",
              "      <td>0.101010</td>\n",
              "      <td>4.370370</td>\n",
              "      <td>0.194333</td>\n",
              "      <td>Joropo</td>\n",
              "    </tr>\n",
              "    <tr>\n",
              "      <th>176</th>\n",
              "      <td>Pasillo27.txt</td>\n",
              "      <td>5.500000</td>\n",
              "      <td>1.666667</td>\n",
              "      <td>0.303030</td>\n",
              "      <td>4.151515</td>\n",
              "      <td>0.263333</td>\n",
              "      <td>Pasillo</td>\n",
              "    </tr>\n",
              "    <tr>\n",
              "      <th>177</th>\n",
              "      <td>Vallenato04.txt</td>\n",
              "      <td>7.902439</td>\n",
              "      <td>0.731707</td>\n",
              "      <td>0.092593</td>\n",
              "      <td>4.006173</td>\n",
              "      <td>0.391533</td>\n",
              "      <td>Vallenato</td>\n",
              "    </tr>\n",
              "    <tr>\n",
              "      <th>178</th>\n",
              "      <td>Vallenato12.txt</td>\n",
              "      <td>20.250000</td>\n",
              "      <td>2.500000</td>\n",
              "      <td>0.123457</td>\n",
              "      <td>3.971193</td>\n",
              "      <td>0.260490</td>\n",
              "      <td>Vallenato</td>\n",
              "    </tr>\n",
              "    <tr>\n",
              "      <th>179</th>\n",
              "      <td>Cumbia26.txt</td>\n",
              "      <td>9.500000</td>\n",
              "      <td>2.500000</td>\n",
              "      <td>0.263158</td>\n",
              "      <td>4.078947</td>\n",
              "      <td>-0.357143</td>\n",
              "      <td>Cumbia</td>\n",
              "    </tr>\n",
              "  </tbody>\n",
              "</table>\n",
              "<p>180 rows × 7 columns</p>\n",
              "</div>"
            ],
            "text/plain": [
              "            filename  PalabrasPorLinea  ...  Sentimiento      label\n",
              "0    Vallenato18.txt         15.235294  ...     0.314756  Vallenato\n",
              "1       Joropo14.txt          8.785714  ...     0.273661     Joropo\n",
              "2     Carranga14.txt          7.105263  ...     0.287798   Carranga\n",
              "3       Cumbia30.txt         22.833333  ...    -0.152976     Cumbia\n",
              "4       Cumbia14.txt          7.666667  ...    -0.141944     Cumbia\n",
              "5     Carranga23.txt          2.887097  ...    -0.194345   Carranga\n",
              "6    Vallenato06.txt          5.636364  ...     0.298082  Vallenato\n",
              "7    Vallenato17.txt         40.500000  ...     0.315000  Vallenato\n",
              "8       Joropo25.txt         16.454545  ...     0.442857     Joropo\n",
              "9      Bambuco16.txt          7.411765  ...     0.220000    Bambuco\n",
              "10    Carranga06.txt          8.500000  ...     0.339062   Carranga\n",
              "11    Carranga07.txt         15.230769  ...     0.042892   Carranga\n",
              "12      Cumbia24.txt         12.153846  ...     0.466667     Cumbia\n",
              "13      Cumbia08.txt         10.222222  ...     0.171429     Cumbia\n",
              "14     Bambuco02.txt          7.850000  ...     0.333566    Bambuco\n",
              "15    Carranga25.txt          6.000000  ...    -0.129167   Carranga\n",
              "16      Cumbia10.txt          3.400000  ...     0.187500     Cumbia\n",
              "17     Bambuco15.txt          3.909091  ...     0.383929    Bambuco\n",
              "18     Bambuco26.txt         12.666667  ...     0.260227    Bambuco\n",
              "19     Bambuco01.txt          7.884615  ...    -0.079592    Bambuco\n",
              "20      Joropo10.txt          3.829268  ...     0.046689     Joropo\n",
              "21     Bambuco07.txt          4.333333  ...     0.333333    Bambuco\n",
              "22    Carranga30.txt          9.900000  ...     0.057917   Carranga\n",
              "23      Joropo11.txt         19.750000  ...     0.131373     Joropo\n",
              "24     Pasillo24.txt          5.000000  ...     0.250000    Pasillo\n",
              "25     Bambuco13.txt         11.294118  ...     0.403846    Bambuco\n",
              "26      Cumbia15.txt          6.842105  ...     0.262500     Cumbia\n",
              "27   Vallenato28.txt         21.058824  ...     0.381250  Vallenato\n",
              "28    Carranga20.txt          5.226415  ...    -0.028704   Carranga\n",
              "29    Carranga26.txt          5.413043  ...     0.009804   Carranga\n",
              "..               ...               ...  ...          ...        ...\n",
              "150    Pasillo09.txt          7.000000  ...     0.249802    Pasillo\n",
              "151     Joropo30.txt         22.680000  ...     0.030556     Joropo\n",
              "152     Cumbia02.txt          4.810811  ...     0.009857     Cumbia\n",
              "153    Pasillo05.txt          6.315789  ...     0.175758    Pasillo\n",
              "154  Vallenato01.txt         13.000000  ...     0.055000  Vallenato\n",
              "155  Vallenato20.txt          6.710526  ...     0.274209  Vallenato\n",
              "156  Vallenato02.txt         16.071429  ...     0.111111  Vallenato\n",
              "157  Vallenato08.txt         11.760000  ...     0.375800  Vallenato\n",
              "158     Joropo01.txt         18.222222  ...     0.477778     Joropo\n",
              "159     Joropo18.txt         12.187500  ...     0.258730     Joropo\n",
              "160    Bambuco27.txt          5.000000  ...     0.433333    Bambuco\n",
              "161    Pasillo02.txt          4.625000  ...     0.061455    Pasillo\n",
              "162   Carranga12.txt         23.307692  ...    -0.082828   Carranga\n",
              "163     Joropo05.txt          3.255814  ...     0.209683     Joropo\n",
              "164    Pasillo23.txt          8.000000  ...     0.170000    Pasillo\n",
              "165    Bambuco23.txt          6.000000  ...     0.179545    Bambuco\n",
              "166    Bambuco08.txt          7.769231  ...     0.246814    Bambuco\n",
              "167    Bambuco24.txt          9.736842  ...     0.040246    Bambuco\n",
              "168  Vallenato24.txt         17.562500  ...     0.085354  Vallenato\n",
              "169    Bambuco14.txt          9.473684  ...    -0.138559    Bambuco\n",
              "170    Pasillo12.txt         11.666667  ...     0.073636    Pasillo\n",
              "171   Carranga22.txt          5.206897  ...    -0.001250   Carranga\n",
              "172     Cumbia22.txt         15.666667  ...     0.250000     Cumbia\n",
              "173  Vallenato07.txt          9.687500  ...     0.079487  Vallenato\n",
              "174  Vallenato21.txt         23.812500  ...     0.268978  Vallenato\n",
              "175     Joropo26.txt         10.607143  ...     0.194333     Joropo\n",
              "176    Pasillo27.txt          5.500000  ...     0.263333    Pasillo\n",
              "177  Vallenato04.txt          7.902439  ...     0.391533  Vallenato\n",
              "178  Vallenato12.txt         20.250000  ...     0.260490  Vallenato\n",
              "179     Cumbia26.txt          9.500000  ...    -0.357143     Cumbia\n",
              "\n",
              "[180 rows x 7 columns]"
            ]
          },
          "metadata": {
            "tags": []
          },
          "execution_count": 27
        }
      ]
    },
    {
      "cell_type": "markdown",
      "metadata": {
        "id": "WEKjMrEKVtng"
      },
      "source": [
        "##Graficas de sentimiento por clase vs general"
      ]
    },
    {
      "cell_type": "markdown",
      "metadata": {
        "id": "v3o9veXIV221"
      },
      "source": [
        "###Joropo"
      ]
    },
    {
      "cell_type": "code",
      "metadata": {
        "id": "LOAd8CcMJ7fJ",
        "outputId": "76f40208-567a-41ce-f1bc-7f1abe77971d",
        "colab": {
          "base_uri": "https://localhost:8080/",
          "height": 300
        }
      },
      "source": [
        "import seaborn as sns  \n",
        "import matplotlib.pyplot as plt  \n",
        "%matplotlib inline\n",
        "data_filter = data[data['label'] == \"Joropo\"]\n",
        "sns.distplot(data['Sentimiento'])  \n",
        "sns.distplot(data_filter['Sentimiento'])  "
      ],
      "execution_count": null,
      "outputs": [
        {
          "output_type": "execute_result",
          "data": {
            "text/plain": [
              "<matplotlib.axes._subplots.AxesSubplot at 0x7f1e5c2c6e48>"
            ]
          },
          "metadata": {
            "tags": []
          },
          "execution_count": 28
        },
        {
          "output_type": "display_data",
          "data": {
            "image/png": "[encoded data removed]",
            "text/plain": [
              "<Figure size 432x288 with 1 Axes>"
            ]
          },
          "metadata": {
            "tags": []
          }
        }
      ]
    },
    {
      "cell_type": "markdown",
      "metadata": {
        "id": "-79xybb3V4v8"
      },
      "source": [
        "###Cumbia"
      ]
    },
    {
      "cell_type": "code",
      "metadata": {
        "id": "t_picC5hKsTc",
        "outputId": "6077fb15-53e0-4131-cc6b-c01eac77b491",
        "colab": {
          "base_uri": "https://localhost:8080/",
          "height": 300
        }
      },
      "source": [
        "data_filter = data[data['label'] == \"Cumbia\"]\n",
        "sns.distplot(data['Sentimiento'])  \n",
        "sns.distplot(data_filter['Sentimiento'])  "
      ],
      "execution_count": null,
      "outputs": [
        {
          "output_type": "execute_result",
          "data": {
            "text/plain": [
              "<matplotlib.axes._subplots.AxesSubplot at 0x7f1e5c332b70>"
            ]
          },
          "metadata": {
            "tags": []
          },
          "execution_count": 29
        },
        {
          "output_type": "display_data",
          "data": {
            "image/png": "[encoded data removed]",
            "text/plain": [
              "<Figure size 432x288 with 1 Axes>"
            ]
          },
          "metadata": {
            "tags": []
          }
        }
      ]
    },
    {
      "cell_type": "markdown",
      "metadata": {
        "id": "UVjupsSWV4q7"
      },
      "source": [
        "###Carranga"
      ]
    },
    {
      "cell_type": "code",
      "metadata": {
        "id": "mmeRJtKlKtcb",
        "outputId": "29e17245-cb64-413e-d524-f92b02f5f44d",
        "colab": {
          "base_uri": "https://localhost:8080/",
          "height": 300
        }
      },
      "source": [
        "data_filter = data[data['label'] == \"Carranga\"]\n",
        "sns.distplot(data['Sentimiento'])  \n",
        "sns.distplot(data_filter['Sentimiento'])  "
      ],
      "execution_count": null,
      "outputs": [
        {
          "output_type": "execute_result",
          "data": {
            "text/plain": [
              "<matplotlib.axes._subplots.AxesSubplot at 0x7f1e5c2fc6d8>"
            ]
          },
          "metadata": {
            "tags": []
          },
          "execution_count": 30
        },
        {
          "output_type": "display_data",
          "data": {
            "image/png": "[encoded data removed]",
            "text/plain": [
              "<Figure size 432x288 with 1 Axes>"
            ]
          },
          "metadata": {
            "tags": []
          }
        }
      ]
    },
    {
      "cell_type": "markdown",
      "metadata": {
        "id": "7_G1KwiGV9BG"
      },
      "source": [
        "###Vallenato"
      ]
    },
    {
      "cell_type": "code",
      "metadata": {
        "id": "9uBSR-ZcKtR9",
        "outputId": "9e3435d5-1426-4d12-93a1-9635499fbab8",
        "colab": {
          "base_uri": "https://localhost:8080/",
          "height": 300
        }
      },
      "source": [
        "data_filter = data[data['label'] == \"Vallenato\"]\n",
        "sns.distplot(data['Sentimiento'])  \n",
        "sns.distplot(data_filter['Sentimiento'])  "
      ],
      "execution_count": null,
      "outputs": [
        {
          "output_type": "execute_result",
          "data": {
            "text/plain": [
              "<matplotlib.axes._subplots.AxesSubplot at 0x7f1e5c344160>"
            ]
          },
          "metadata": {
            "tags": []
          },
          "execution_count": 31
        },
        {
          "output_type": "display_data",
          "data": {
            "image/png": "[encoded data removed]",
            "text/plain": [
              "<Figure size 432x288 with 1 Axes>"
            ]
          },
          "metadata": {
            "tags": []
          }
        }
      ]
    },
    {
      "cell_type": "markdown",
      "metadata": {
        "id": "omuZbHW6V_AL"
      },
      "source": [
        "###Pasillo"
      ]
    },
    {
      "cell_type": "code",
      "metadata": {
        "id": "0Z_Z4_iXKuSR",
        "outputId": "73a67569-93bc-4bcc-86fb-a664538d9eeb",
        "colab": {
          "base_uri": "https://localhost:8080/",
          "height": 300
        }
      },
      "source": [
        "data_filter = data[data['label'] == \"Pasillo\"]\n",
        "sns.distplot(data['Sentimiento'])  \n",
        "sns.distplot(data_filter['Sentimiento'])  "
      ],
      "execution_count": null,
      "outputs": [
        {
          "output_type": "execute_result",
          "data": {
            "text/plain": [
              "<matplotlib.axes._subplots.AxesSubplot at 0x7f1e5c382470>"
            ]
          },
          "metadata": {
            "tags": []
          },
          "execution_count": 32
        },
        {
          "output_type": "display_data",
          "data": {
            "image/png": "[encoded data removed]",
            "text/plain": [
              "<Figure size 432x288 with 1 Axes>"
            ]
          },
          "metadata": {
            "tags": []
          }
        }
      ]
    },
    {
      "cell_type": "markdown",
      "metadata": {
        "id": "ViUha15yWAww"
      },
      "source": [
        "###Bambuco"
      ]
    },
    {
      "cell_type": "code",
      "metadata": {
        "id": "mUTcHtfcKuqM",
        "outputId": "95551457-8bbd-4a2d-87bd-72ab4a9337f9",
        "colab": {
          "base_uri": "https://localhost:8080/",
          "height": 300
        }
      },
      "source": [
        "data_filter = data[data['label'] == \"Bambuco\"]\n",
        "sns.distplot(data['Sentimiento'])  \n",
        "sns.distplot(data_filter['Sentimiento'])  "
      ],
      "execution_count": null,
      "outputs": [
        {
          "output_type": "execute_result",
          "data": {
            "text/plain": [
              "<matplotlib.axes._subplots.AxesSubplot at 0x7f1e5c3eb6d8>"
            ]
          },
          "metadata": {
            "tags": []
          },
          "execution_count": 33
        },
        {
          "output_type": "display_data",
          "data": {
            "image/png": "[encoded data removed]",
            "text/plain": [
              "<Figure size 432x288 with 1 Axes>"
            ]
          },
          "metadata": {
            "tags": []
          }
        }
      ]
    },
    {
      "cell_type": "markdown",
      "metadata": {
        "id": "vVMv1yYxWC0O"
      },
      "source": [
        "##Razon de Palabras unicas en las letras de cada genero vs general"
      ]
    },
    {
      "cell_type": "code",
      "metadata": {
        "id": "60MED9-0KIG6",
        "outputId": "a5b77a63-f5be-43f9-cc73-ae46ed158bf7",
        "colab": {
          "base_uri": "https://localhost:8080/",
          "height": 300
        }
      },
      "source": [
        "data_filter = data[data['label'] == \"Bambuco\"]\n",
        "sns.distplot(data['RazonPalabrasUnicas'])  \n",
        "sns.distplot(data_filter['RazonPalabrasUnicas'])  "
      ],
      "execution_count": null,
      "outputs": [
        {
          "output_type": "execute_result",
          "data": {
            "text/plain": [
              "<matplotlib.axes._subplots.AxesSubplot at 0x7f1e5c41e978>"
            ]
          },
          "metadata": {
            "tags": []
          },
          "execution_count": 34
        },
        {
          "output_type": "display_data",
          "data": {
            "image/png": "[encoded data removed]",
            "text/plain": [
              "<Figure size 432x288 with 1 Axes>"
            ]
          },
          "metadata": {
            "tags": []
          }
        }
      ]
    },
    {
      "cell_type": "code",
      "metadata": {
        "id": "x53mlHe1hvSg",
        "outputId": "0aba12cb-1423-4b72-828e-c81bf1150d0d",
        "colab": {
          "base_uri": "https://localhost:8080/",
          "height": 300
        }
      },
      "source": [
        "data_filter = data[data['label'] == \"Bambuco\"]\n",
        "sns.distplot(data['RazonPalabrasUnicas'])  \n",
        "sns.distplot(data_filter['RazonPalabrasUnicas'])  "
      ],
      "execution_count": null,
      "outputs": [
        {
          "output_type": "execute_result",
          "data": {
            "text/plain": [
              "<matplotlib.axes._subplots.AxesSubplot at 0x7f1e5c449550>"
            ]
          },
          "metadata": {
            "tags": []
          },
          "execution_count": 35
        },
        {
          "output_type": "display_data",
          "data": {
            "image/png": "[encoded data removed]",
            "text/plain": [
              "<Figure size 432x288 with 1 Axes>"
            ]
          },
          "metadata": {
            "tags": []
          }
        }
      ]
    },
    {
      "cell_type": "code",
      "metadata": {
        "id": "ZFn4glcLhwem",
        "outputId": "a5b56f59-3f9c-47e1-aac5-6ba9b1a49ba2",
        "colab": {
          "base_uri": "https://localhost:8080/",
          "height": 300
        }
      },
      "source": [
        "data_filter = data[data['label'] == \"Pasillo\"]\n",
        "sns.distplot(data['RazonPalabrasUnicas'])  \n",
        "sns.distplot(data_filter['RazonPalabrasUnicas'])  "
      ],
      "execution_count": null,
      "outputs": [
        {
          "output_type": "execute_result",
          "data": {
            "text/plain": [
              "<matplotlib.axes._subplots.AxesSubplot at 0x7f1e5c450588>"
            ]
          },
          "metadata": {
            "tags": []
          },
          "execution_count": 36
        },
        {
          "output_type": "display_data",
          "data": {
            "image/png": "[encoded data removed]",
            "text/plain": [
              "<Figure size 432x288 with 1 Axes>"
            ]
          },
          "metadata": {
            "tags": []
          }
        }
      ]
    },
    {
      "cell_type": "code",
      "metadata": {
        "id": "ar1U4q-AhwbW",
        "outputId": "d8216680-f72f-48e0-8704-5203705cab7a",
        "colab": {
          "base_uri": "https://localhost:8080/",
          "height": 300
        }
      },
      "source": [
        "data_filter = data[data['label'] == \"Cumbia\"]\n",
        "sns.distplot(data['RazonPalabrasUnicas'])  \n",
        "sns.distplot(data_filter['RazonPalabrasUnicas'])  "
      ],
      "execution_count": null,
      "outputs": [
        {
          "output_type": "execute_result",
          "data": {
            "text/plain": [
              "<matplotlib.axes._subplots.AxesSubplot at 0x7f1e5c47c0f0>"
            ]
          },
          "metadata": {
            "tags": []
          },
          "execution_count": 37
        },
        {
          "output_type": "display_data",
          "data": {
            "image/png": "[encoded data removed]",
            "text/plain": [
              "<Figure size 432x288 with 1 Axes>"
            ]
          },
          "metadata": {
            "tags": []
          }
        }
      ]
    },
    {
      "cell_type": "code",
      "metadata": {
        "id": "InF5abo3hwYD",
        "outputId": "b19d3050-528a-4a98-f9f9-d5eea3851760",
        "colab": {
          "base_uri": "https://localhost:8080/",
          "height": 300
        }
      },
      "source": [
        "data_filter = data[data['label'] == \"Carranga\"]\n",
        "sns.distplot(data['RazonPalabrasUnicas'])  \n",
        "sns.distplot(data_filter['RazonPalabrasUnicas'])  "
      ],
      "execution_count": null,
      "outputs": [
        {
          "output_type": "execute_result",
          "data": {
            "text/plain": [
              "<matplotlib.axes._subplots.AxesSubplot at 0x7f1e5c4bd6d8>"
            ]
          },
          "metadata": {
            "tags": []
          },
          "execution_count": 38
        },
        {
          "output_type": "display_data",
          "data": {
            "image/png": "[encoded data removed]",
            "text/plain": [
              "<Figure size 432x288 with 1 Axes>"
            ]
          },
          "metadata": {
            "tags": []
          }
        }
      ]
    },
    {
      "cell_type": "code",
      "metadata": {
        "id": "dY3SYnM9h4QH",
        "outputId": "ac4d2d59-9e3c-4f22-f29a-6f8956ae403d",
        "colab": {
          "base_uri": "https://localhost:8080/",
          "height": 300
        }
      },
      "source": [
        "data_filter = data[data['label'] == \"Joropo\"]\n",
        "sns.distplot(data['RazonPalabrasUnicas'])  \n",
        "sns.distplot(data_filter['RazonPalabrasUnicas'])  "
      ],
      "execution_count": null,
      "outputs": [
        {
          "output_type": "execute_result",
          "data": {
            "text/plain": [
              "<matplotlib.axes._subplots.AxesSubplot at 0x7f1e5c4d5e80>"
            ]
          },
          "metadata": {
            "tags": []
          },
          "execution_count": 39
        },
        {
          "output_type": "display_data",
          "data": {
            "image/png": "[encoded data removed]",
            "text/plain": [
              "<Figure size 432x288 with 1 Axes>"
            ]
          },
          "metadata": {
            "tags": []
          }
        }
      ]
    },
    {
      "cell_type": "code",
      "metadata": {
        "id": "agHkr55lhwI5",
        "outputId": "43ff734c-eede-4096-8243-3aca50c21602",
        "colab": {
          "base_uri": "https://localhost:8080/",
          "height": 300
        }
      },
      "source": [
        "data_filter = data[data['label'] == \"Vallenato\"]\n",
        "sns.distplot(data['RazonPalabrasUnicas'])  \n",
        "sns.distplot(data_filter['RazonPalabrasUnicas'])  "
      ],
      "execution_count": null,
      "outputs": [
        {
          "output_type": "execute_result",
          "data": {
            "text/plain": [
              "<matplotlib.axes._subplots.AxesSubplot at 0x7f1e587a6470>"
            ]
          },
          "metadata": {
            "tags": []
          },
          "execution_count": 40
        },
        {
          "output_type": "display_data",
          "data": {
            "image/png": "[encoded data removed]",
            "text/plain": [
              "<Figure size 432x288 with 1 Axes>"
            ]
          },
          "metadata": {
            "tags": []
          }
        }
      ]
    },
    {
      "cell_type": "code",
      "metadata": {
        "id": "mOxb0kKjXfpI",
        "outputId": "df3f9759-0484-4ff5-c9cb-34aa67e9ea6d",
        "colab": {
          "base_uri": "https://localhost:8080/",
          "height": 34
        }
      },
      "source": [
        "len(data)"
      ],
      "execution_count": null,
      "outputs": [
        {
          "output_type": "execute_result",
          "data": {
            "text/plain": [
              "180"
            ]
          },
          "metadata": {
            "tags": []
          },
          "execution_count": 41
        }
      ]
    },
    {
      "cell_type": "code",
      "metadata": {
        "id": "HBEbFhJ6tE3I",
        "outputId": "56f89ec3-d520-4e25-c105-c2bc45f66432",
        "colab": {
          "base_uri": "https://localhost:8080/",
          "height": 34
        }
      },
      "source": [
        "data.shape"
      ],
      "execution_count": null,
      "outputs": [
        {
          "output_type": "execute_result",
          "data": {
            "text/plain": [
              "(180, 7)"
            ]
          },
          "metadata": {
            "tags": []
          },
          "execution_count": 42
        }
      ]
    },
    {
      "cell_type": "markdown",
      "metadata": {
        "id": "0blZ17PkWQUC"
      },
      "source": [
        "###Preparando datos para entrenamiento, codificando las etiquetas "
      ]
    },
    {
      "cell_type": "code",
      "metadata": {
        "id": "qPEGmzkq2NDZ"
      },
      "source": [
        "data = data.drop(['filename'],axis=1)"
      ],
      "execution_count": null,
      "outputs": []
    },
    {
      "cell_type": "code",
      "metadata": {
        "id": "lOKHSU8y3AKg"
      },
      "source": [
        "genre_list = data.iloc[:, -1]\n",
        "encoder = LabelEncoder()\n",
        "y = encoder.fit_transform(genre_list)"
      ],
      "execution_count": null,
      "outputs": []
    },
    {
      "cell_type": "code",
      "metadata": {
        "id": "LfdLyjHu4Imk"
      },
      "source": [
        "data = data.drop(['label'],axis=1)"
      ],
      "execution_count": null,
      "outputs": []
    },
    {
      "cell_type": "code",
      "metadata": {
        "id": "f4mH_bM64MyA",
        "colab": {
          "base_uri": "https://localhost:8080/",
          "height": 1000
        },
        "outputId": "1208e505-e4f8-4ba9-9736-990439c50f2f"
      },
      "source": [
        "data"
      ],
      "execution_count": null,
      "outputs": [
        {
          "output_type": "execute_result",
          "data": {
            "text/html": [
              "<div>\n",
              "<style scoped>\n",
              "    .dataframe tbody tr th:only-of-type {\n",
              "        vertical-align: middle;\n",
              "    }\n",
              "\n",
              "    .dataframe tbody tr th {\n",
              "        vertical-align: top;\n",
              "    }\n",
              "\n",
              "    .dataframe thead th {\n",
              "        text-align: right;\n",
              "    }\n",
              "</style>\n",
              "<table border=\"1\" class=\"dataframe\">\n",
              "  <thead>\n",
              "    <tr style=\"text-align: right;\">\n",
              "      <th></th>\n",
              "      <th>PalabrasPorLinea</th>\n",
              "      <th>PalabrasUnicasPorLinea</th>\n",
              "      <th>RazonPalabrasUnicas</th>\n",
              "      <th>CaracteresPorPalabra</th>\n",
              "      <th>Sentimiento</th>\n",
              "    </tr>\n",
              "  </thead>\n",
              "  <tbody>\n",
              "    <tr>\n",
              "      <th>0</th>\n",
              "      <td>15.235294</td>\n",
              "      <td>1.764706</td>\n",
              "      <td>0.115830</td>\n",
              "      <td>4.262548</td>\n",
              "      <td>0.314756</td>\n",
              "    </tr>\n",
              "    <tr>\n",
              "      <th>1</th>\n",
              "      <td>8.785714</td>\n",
              "      <td>2.142857</td>\n",
              "      <td>0.243902</td>\n",
              "      <td>4.341463</td>\n",
              "      <td>0.273661</td>\n",
              "    </tr>\n",
              "    <tr>\n",
              "      <th>2</th>\n",
              "      <td>7.105263</td>\n",
              "      <td>1.578947</td>\n",
              "      <td>0.222222</td>\n",
              "      <td>4.437037</td>\n",
              "      <td>0.287798</td>\n",
              "    </tr>\n",
              "    <tr>\n",
              "      <th>3</th>\n",
              "      <td>22.833333</td>\n",
              "      <td>1.666667</td>\n",
              "      <td>0.072993</td>\n",
              "      <td>3.362530</td>\n",
              "      <td>-0.152976</td>\n",
              "    </tr>\n",
              "    <tr>\n",
              "      <th>4</th>\n",
              "      <td>7.666667</td>\n",
              "      <td>2.500000</td>\n",
              "      <td>0.326087</td>\n",
              "      <td>4.619565</td>\n",
              "      <td>-0.141944</td>\n",
              "    </tr>\n",
              "    <tr>\n",
              "      <th>5</th>\n",
              "      <td>2.887097</td>\n",
              "      <td>0.483871</td>\n",
              "      <td>0.167598</td>\n",
              "      <td>4.240223</td>\n",
              "      <td>-0.194345</td>\n",
              "    </tr>\n",
              "    <tr>\n",
              "      <th>6</th>\n",
              "      <td>5.636364</td>\n",
              "      <td>0.681818</td>\n",
              "      <td>0.120968</td>\n",
              "      <td>3.927419</td>\n",
              "      <td>0.298082</td>\n",
              "    </tr>\n",
              "    <tr>\n",
              "      <th>7</th>\n",
              "      <td>40.500000</td>\n",
              "      <td>7.500000</td>\n",
              "      <td>0.185185</td>\n",
              "      <td>3.543210</td>\n",
              "      <td>0.315000</td>\n",
              "    </tr>\n",
              "    <tr>\n",
              "      <th>8</th>\n",
              "      <td>16.454545</td>\n",
              "      <td>2.727273</td>\n",
              "      <td>0.165746</td>\n",
              "      <td>3.889503</td>\n",
              "      <td>0.442857</td>\n",
              "    </tr>\n",
              "    <tr>\n",
              "      <th>9</th>\n",
              "      <td>7.411765</td>\n",
              "      <td>1.764706</td>\n",
              "      <td>0.238095</td>\n",
              "      <td>4.412698</td>\n",
              "      <td>0.220000</td>\n",
              "    </tr>\n",
              "    <tr>\n",
              "      <th>10</th>\n",
              "      <td>8.500000</td>\n",
              "      <td>1.500000</td>\n",
              "      <td>0.176471</td>\n",
              "      <td>4.176471</td>\n",
              "      <td>0.339062</td>\n",
              "    </tr>\n",
              "    <tr>\n",
              "      <th>11</th>\n",
              "      <td>15.230769</td>\n",
              "      <td>2.307692</td>\n",
              "      <td>0.151515</td>\n",
              "      <td>4.040404</td>\n",
              "      <td>0.042892</td>\n",
              "    </tr>\n",
              "    <tr>\n",
              "      <th>12</th>\n",
              "      <td>12.153846</td>\n",
              "      <td>2.307692</td>\n",
              "      <td>0.189873</td>\n",
              "      <td>4.037975</td>\n",
              "      <td>0.466667</td>\n",
              "    </tr>\n",
              "    <tr>\n",
              "      <th>13</th>\n",
              "      <td>10.222222</td>\n",
              "      <td>3.333333</td>\n",
              "      <td>0.326087</td>\n",
              "      <td>3.934783</td>\n",
              "      <td>0.171429</td>\n",
              "    </tr>\n",
              "    <tr>\n",
              "      <th>14</th>\n",
              "      <td>7.850000</td>\n",
              "      <td>1.500000</td>\n",
              "      <td>0.191083</td>\n",
              "      <td>3.878981</td>\n",
              "      <td>0.333566</td>\n",
              "    </tr>\n",
              "    <tr>\n",
              "      <th>15</th>\n",
              "      <td>6.000000</td>\n",
              "      <td>0.857143</td>\n",
              "      <td>0.142857</td>\n",
              "      <td>4.176190</td>\n",
              "      <td>-0.129167</td>\n",
              "    </tr>\n",
              "    <tr>\n",
              "      <th>16</th>\n",
              "      <td>3.400000</td>\n",
              "      <td>0.750000</td>\n",
              "      <td>0.220588</td>\n",
              "      <td>4.573529</td>\n",
              "      <td>0.187500</td>\n",
              "    </tr>\n",
              "    <tr>\n",
              "      <th>17</th>\n",
              "      <td>3.909091</td>\n",
              "      <td>1.363636</td>\n",
              "      <td>0.348837</td>\n",
              "      <td>5.069767</td>\n",
              "      <td>0.383929</td>\n",
              "    </tr>\n",
              "    <tr>\n",
              "      <th>18</th>\n",
              "      <td>12.666667</td>\n",
              "      <td>3.333333</td>\n",
              "      <td>0.263158</td>\n",
              "      <td>4.280702</td>\n",
              "      <td>0.260227</td>\n",
              "    </tr>\n",
              "    <tr>\n",
              "      <th>19</th>\n",
              "      <td>7.884615</td>\n",
              "      <td>1.153846</td>\n",
              "      <td>0.146341</td>\n",
              "      <td>4.273171</td>\n",
              "      <td>-0.079592</td>\n",
              "    </tr>\n",
              "    <tr>\n",
              "      <th>20</th>\n",
              "      <td>3.829268</td>\n",
              "      <td>0.731707</td>\n",
              "      <td>0.191083</td>\n",
              "      <td>4.675159</td>\n",
              "      <td>0.046689</td>\n",
              "    </tr>\n",
              "    <tr>\n",
              "      <th>21</th>\n",
              "      <td>4.333333</td>\n",
              "      <td>1.111111</td>\n",
              "      <td>0.256410</td>\n",
              "      <td>4.102564</td>\n",
              "      <td>0.333333</td>\n",
              "    </tr>\n",
              "    <tr>\n",
              "      <th>22</th>\n",
              "      <td>9.900000</td>\n",
              "      <td>1.500000</td>\n",
              "      <td>0.151515</td>\n",
              "      <td>3.974747</td>\n",
              "      <td>0.057917</td>\n",
              "    </tr>\n",
              "    <tr>\n",
              "      <th>23</th>\n",
              "      <td>19.750000</td>\n",
              "      <td>3.750000</td>\n",
              "      <td>0.189873</td>\n",
              "      <td>4.367089</td>\n",
              "      <td>0.131373</td>\n",
              "    </tr>\n",
              "    <tr>\n",
              "      <th>24</th>\n",
              "      <td>5.000000</td>\n",
              "      <td>1.578947</td>\n",
              "      <td>0.315789</td>\n",
              "      <td>4.221053</td>\n",
              "      <td>0.250000</td>\n",
              "    </tr>\n",
              "    <tr>\n",
              "      <th>25</th>\n",
              "      <td>11.294118</td>\n",
              "      <td>1.764706</td>\n",
              "      <td>0.156250</td>\n",
              "      <td>4.088542</td>\n",
              "      <td>0.403846</td>\n",
              "    </tr>\n",
              "    <tr>\n",
              "      <th>26</th>\n",
              "      <td>6.842105</td>\n",
              "      <td>1.578947</td>\n",
              "      <td>0.230769</td>\n",
              "      <td>4.461538</td>\n",
              "      <td>0.262500</td>\n",
              "    </tr>\n",
              "    <tr>\n",
              "      <th>27</th>\n",
              "      <td>21.058824</td>\n",
              "      <td>1.764706</td>\n",
              "      <td>0.083799</td>\n",
              "      <td>4.036313</td>\n",
              "      <td>0.381250</td>\n",
              "    </tr>\n",
              "    <tr>\n",
              "      <th>28</th>\n",
              "      <td>5.226415</td>\n",
              "      <td>0.566038</td>\n",
              "      <td>0.108303</td>\n",
              "      <td>4.072202</td>\n",
              "      <td>-0.028704</td>\n",
              "    </tr>\n",
              "    <tr>\n",
              "      <th>29</th>\n",
              "      <td>5.413043</td>\n",
              "      <td>0.652174</td>\n",
              "      <td>0.120482</td>\n",
              "      <td>3.795181</td>\n",
              "      <td>0.009804</td>\n",
              "    </tr>\n",
              "    <tr>\n",
              "      <th>...</th>\n",
              "      <td>...</td>\n",
              "      <td>...</td>\n",
              "      <td>...</td>\n",
              "      <td>...</td>\n",
              "      <td>...</td>\n",
              "    </tr>\n",
              "    <tr>\n",
              "      <th>150</th>\n",
              "      <td>7.000000</td>\n",
              "      <td>1.875000</td>\n",
              "      <td>0.267857</td>\n",
              "      <td>4.151786</td>\n",
              "      <td>0.249802</td>\n",
              "    </tr>\n",
              "    <tr>\n",
              "      <th>151</th>\n",
              "      <td>22.680000</td>\n",
              "      <td>1.200000</td>\n",
              "      <td>0.052910</td>\n",
              "      <td>4.680776</td>\n",
              "      <td>0.030556</td>\n",
              "    </tr>\n",
              "    <tr>\n",
              "      <th>152</th>\n",
              "      <td>4.810811</td>\n",
              "      <td>0.810811</td>\n",
              "      <td>0.168539</td>\n",
              "      <td>3.977528</td>\n",
              "      <td>0.009857</td>\n",
              "    </tr>\n",
              "    <tr>\n",
              "      <th>153</th>\n",
              "      <td>6.315789</td>\n",
              "      <td>1.578947</td>\n",
              "      <td>0.250000</td>\n",
              "      <td>4.350000</td>\n",
              "      <td>0.175758</td>\n",
              "    </tr>\n",
              "    <tr>\n",
              "      <th>154</th>\n",
              "      <td>13.000000</td>\n",
              "      <td>2.142857</td>\n",
              "      <td>0.164835</td>\n",
              "      <td>3.939560</td>\n",
              "      <td>0.055000</td>\n",
              "    </tr>\n",
              "    <tr>\n",
              "      <th>155</th>\n",
              "      <td>6.710526</td>\n",
              "      <td>0.789474</td>\n",
              "      <td>0.117647</td>\n",
              "      <td>3.874510</td>\n",
              "      <td>0.274209</td>\n",
              "    </tr>\n",
              "    <tr>\n",
              "      <th>156</th>\n",
              "      <td>16.071429</td>\n",
              "      <td>2.142857</td>\n",
              "      <td>0.133333</td>\n",
              "      <td>3.937778</td>\n",
              "      <td>0.111111</td>\n",
              "    </tr>\n",
              "    <tr>\n",
              "      <th>157</th>\n",
              "      <td>11.760000</td>\n",
              "      <td>1.200000</td>\n",
              "      <td>0.102041</td>\n",
              "      <td>3.843537</td>\n",
              "      <td>0.375800</td>\n",
              "    </tr>\n",
              "    <tr>\n",
              "      <th>158</th>\n",
              "      <td>18.222222</td>\n",
              "      <td>3.333333</td>\n",
              "      <td>0.182927</td>\n",
              "      <td>3.378049</td>\n",
              "      <td>0.477778</td>\n",
              "    </tr>\n",
              "    <tr>\n",
              "      <th>159</th>\n",
              "      <td>12.187500</td>\n",
              "      <td>1.875000</td>\n",
              "      <td>0.153846</td>\n",
              "      <td>4.010256</td>\n",
              "      <td>0.258730</td>\n",
              "    </tr>\n",
              "    <tr>\n",
              "      <th>160</th>\n",
              "      <td>5.000000</td>\n",
              "      <td>1.034483</td>\n",
              "      <td>0.206897</td>\n",
              "      <td>4.027586</td>\n",
              "      <td>0.433333</td>\n",
              "    </tr>\n",
              "    <tr>\n",
              "      <th>161</th>\n",
              "      <td>4.625000</td>\n",
              "      <td>0.937500</td>\n",
              "      <td>0.202703</td>\n",
              "      <td>4.641892</td>\n",
              "      <td>0.061455</td>\n",
              "    </tr>\n",
              "    <tr>\n",
              "      <th>162</th>\n",
              "      <td>23.307692</td>\n",
              "      <td>2.307692</td>\n",
              "      <td>0.099010</td>\n",
              "      <td>3.594059</td>\n",
              "      <td>-0.082828</td>\n",
              "    </tr>\n",
              "    <tr>\n",
              "      <th>163</th>\n",
              "      <td>3.255814</td>\n",
              "      <td>0.697674</td>\n",
              "      <td>0.214286</td>\n",
              "      <td>4.057143</td>\n",
              "      <td>0.209683</td>\n",
              "    </tr>\n",
              "    <tr>\n",
              "      <th>164</th>\n",
              "      <td>8.000000</td>\n",
              "      <td>1.875000</td>\n",
              "      <td>0.234375</td>\n",
              "      <td>4.515625</td>\n",
              "      <td>0.170000</td>\n",
              "    </tr>\n",
              "    <tr>\n",
              "      <th>165</th>\n",
              "      <td>6.000000</td>\n",
              "      <td>1.500000</td>\n",
              "      <td>0.250000</td>\n",
              "      <td>4.533333</td>\n",
              "      <td>0.179545</td>\n",
              "    </tr>\n",
              "    <tr>\n",
              "      <th>166</th>\n",
              "      <td>7.769231</td>\n",
              "      <td>2.307692</td>\n",
              "      <td>0.297030</td>\n",
              "      <td>4.722772</td>\n",
              "      <td>0.246814</td>\n",
              "    </tr>\n",
              "    <tr>\n",
              "      <th>167</th>\n",
              "      <td>9.736842</td>\n",
              "      <td>1.578947</td>\n",
              "      <td>0.162162</td>\n",
              "      <td>3.675676</td>\n",
              "      <td>0.040246</td>\n",
              "    </tr>\n",
              "    <tr>\n",
              "      <th>168</th>\n",
              "      <td>17.562500</td>\n",
              "      <td>1.875000</td>\n",
              "      <td>0.106762</td>\n",
              "      <td>3.526690</td>\n",
              "      <td>0.085354</td>\n",
              "    </tr>\n",
              "    <tr>\n",
              "      <th>169</th>\n",
              "      <td>9.473684</td>\n",
              "      <td>1.578947</td>\n",
              "      <td>0.166667</td>\n",
              "      <td>3.900000</td>\n",
              "      <td>-0.138559</td>\n",
              "    </tr>\n",
              "    <tr>\n",
              "      <th>170</th>\n",
              "      <td>11.666667</td>\n",
              "      <td>2.500000</td>\n",
              "      <td>0.214286</td>\n",
              "      <td>4.228571</td>\n",
              "      <td>0.073636</td>\n",
              "    </tr>\n",
              "    <tr>\n",
              "      <th>171</th>\n",
              "      <td>5.206897</td>\n",
              "      <td>1.034483</td>\n",
              "      <td>0.198675</td>\n",
              "      <td>3.655629</td>\n",
              "      <td>-0.001250</td>\n",
              "    </tr>\n",
              "    <tr>\n",
              "      <th>172</th>\n",
              "      <td>15.666667</td>\n",
              "      <td>2.500000</td>\n",
              "      <td>0.159574</td>\n",
              "      <td>4.148936</td>\n",
              "      <td>0.250000</td>\n",
              "    </tr>\n",
              "    <tr>\n",
              "      <th>173</th>\n",
              "      <td>9.687500</td>\n",
              "      <td>0.937500</td>\n",
              "      <td>0.096774</td>\n",
              "      <td>3.745161</td>\n",
              "      <td>0.079487</td>\n",
              "    </tr>\n",
              "    <tr>\n",
              "      <th>174</th>\n",
              "      <td>23.812500</td>\n",
              "      <td>1.875000</td>\n",
              "      <td>0.078740</td>\n",
              "      <td>4.167979</td>\n",
              "      <td>0.268978</td>\n",
              "    </tr>\n",
              "    <tr>\n",
              "      <th>175</th>\n",
              "      <td>10.607143</td>\n",
              "      <td>1.071429</td>\n",
              "      <td>0.101010</td>\n",
              "      <td>4.370370</td>\n",
              "      <td>0.194333</td>\n",
              "    </tr>\n",
              "    <tr>\n",
              "      <th>176</th>\n",
              "      <td>5.500000</td>\n",
              "      <td>1.666667</td>\n",
              "      <td>0.303030</td>\n",
              "      <td>4.151515</td>\n",
              "      <td>0.263333</td>\n",
              "    </tr>\n",
              "    <tr>\n",
              "      <th>177</th>\n",
              "      <td>7.902439</td>\n",
              "      <td>0.731707</td>\n",
              "      <td>0.092593</td>\n",
              "      <td>4.006173</td>\n",
              "      <td>0.391533</td>\n",
              "    </tr>\n",
              "    <tr>\n",
              "      <th>178</th>\n",
              "      <td>20.250000</td>\n",
              "      <td>2.500000</td>\n",
              "      <td>0.123457</td>\n",
              "      <td>3.971193</td>\n",
              "      <td>0.260490</td>\n",
              "    </tr>\n",
              "    <tr>\n",
              "      <th>179</th>\n",
              "      <td>9.500000</td>\n",
              "      <td>2.500000</td>\n",
              "      <td>0.263158</td>\n",
              "      <td>4.078947</td>\n",
              "      <td>-0.357143</td>\n",
              "    </tr>\n",
              "  </tbody>\n",
              "</table>\n",
              "<p>180 rows × 5 columns</p>\n",
              "</div>"
            ],
            "text/plain": [
              "     PalabrasPorLinea  ...  Sentimiento\n",
              "0           15.235294  ...     0.314756\n",
              "1            8.785714  ...     0.273661\n",
              "2            7.105263  ...     0.287798\n",
              "3           22.833333  ...    -0.152976\n",
              "4            7.666667  ...    -0.141944\n",
              "5            2.887097  ...    -0.194345\n",
              "6            5.636364  ...     0.298082\n",
              "7           40.500000  ...     0.315000\n",
              "8           16.454545  ...     0.442857\n",
              "9            7.411765  ...     0.220000\n",
              "10           8.500000  ...     0.339062\n",
              "11          15.230769  ...     0.042892\n",
              "12          12.153846  ...     0.466667\n",
              "13          10.222222  ...     0.171429\n",
              "14           7.850000  ...     0.333566\n",
              "15           6.000000  ...    -0.129167\n",
              "16           3.400000  ...     0.187500\n",
              "17           3.909091  ...     0.383929\n",
              "18          12.666667  ...     0.260227\n",
              "19           7.884615  ...    -0.079592\n",
              "20           3.829268  ...     0.046689\n",
              "21           4.333333  ...     0.333333\n",
              "22           9.900000  ...     0.057917\n",
              "23          19.750000  ...     0.131373\n",
              "24           5.000000  ...     0.250000\n",
              "25          11.294118  ...     0.403846\n",
              "26           6.842105  ...     0.262500\n",
              "27          21.058824  ...     0.381250\n",
              "28           5.226415  ...    -0.028704\n",
              "29           5.413043  ...     0.009804\n",
              "..                ...  ...          ...\n",
              "150          7.000000  ...     0.249802\n",
              "151         22.680000  ...     0.030556\n",
              "152          4.810811  ...     0.009857\n",
              "153          6.315789  ...     0.175758\n",
              "154         13.000000  ...     0.055000\n",
              "155          6.710526  ...     0.274209\n",
              "156         16.071429  ...     0.111111\n",
              "157         11.760000  ...     0.375800\n",
              "158         18.222222  ...     0.477778\n",
              "159         12.187500  ...     0.258730\n",
              "160          5.000000  ...     0.433333\n",
              "161          4.625000  ...     0.061455\n",
              "162         23.307692  ...    -0.082828\n",
              "163          3.255814  ...     0.209683\n",
              "164          8.000000  ...     0.170000\n",
              "165          6.000000  ...     0.179545\n",
              "166          7.769231  ...     0.246814\n",
              "167          9.736842  ...     0.040246\n",
              "168         17.562500  ...     0.085354\n",
              "169          9.473684  ...    -0.138559\n",
              "170         11.666667  ...     0.073636\n",
              "171          5.206897  ...    -0.001250\n",
              "172         15.666667  ...     0.250000\n",
              "173          9.687500  ...     0.079487\n",
              "174         23.812500  ...     0.268978\n",
              "175         10.607143  ...     0.194333\n",
              "176          5.500000  ...     0.263333\n",
              "177          7.902439  ...     0.391533\n",
              "178         20.250000  ...     0.260490\n",
              "179          9.500000  ...    -0.357143\n",
              "\n",
              "[180 rows x 5 columns]"
            ]
          },
          "metadata": {
            "tags": []
          },
          "execution_count": 46
        }
      ]
    },
    {
      "cell_type": "code",
      "metadata": {
        "id": "U1HfpwE0PLyn"
      },
      "source": [
        "dataNB = data.drop(['Sentimiento'],axis=1)"
      ],
      "execution_count": null,
      "outputs": []
    },
    {
      "cell_type": "code",
      "metadata": {
        "id": "Zgn8RE71Os41",
        "colab": {
          "base_uri": "https://localhost:8080/",
          "height": 34
        },
        "outputId": "e114b24e-52f1-45e4-8204-e8d97265ad1d"
      },
      "source": [
        "data.shape"
      ],
      "execution_count": null,
      "outputs": [
        {
          "output_type": "execute_result",
          "data": {
            "text/plain": [
              "(180, 5)"
            ]
          },
          "metadata": {
            "tags": []
          },
          "execution_count": 48
        }
      ]
    },
    {
      "cell_type": "code",
      "metadata": {
        "id": "32Z5yGYPOvcm"
      },
      "source": [
        "scaler = StandardScaler()\n",
        "X = scaler.fit_transform(np.array(data.iloc[:, :-1], dtype = float))\n",
        "data= X"
      ],
      "execution_count": null,
      "outputs": []
    },
    {
      "cell_type": "code",
      "metadata": {
        "id": "BP5lZSOxOyGE",
        "colab": {
          "base_uri": "https://localhost:8080/",
          "height": 34
        },
        "outputId": "9ea857e2-45ab-44a3-f4ec-46c79e1023c6"
      },
      "source": [
        "data.shape"
      ],
      "execution_count": null,
      "outputs": [
        {
          "output_type": "execute_result",
          "data": {
            "text/plain": [
              "(180, 4)"
            ]
          },
          "metadata": {
            "tags": []
          },
          "execution_count": 50
        }
      ]
    },
    {
      "cell_type": "code",
      "metadata": {
        "id": "62l-Oybw3SoG",
        "colab": {
          "base_uri": "https://localhost:8080/",
          "height": 170
        },
        "outputId": "2ff70117-8773-4279-e2ab-77f5a8c585a7"
      },
      "source": [
        "y"
      ],
      "execution_count": null,
      "outputs": [
        {
          "output_type": "execute_result",
          "data": {
            "text/plain": [
              "array([5, 3, 1, 2, 2, 1, 5, 5, 3, 0, 1, 1, 2, 2, 0, 1, 2, 0, 0, 0, 3, 0,\n",
              "       1, 3, 4, 0, 2, 5, 1, 1, 2, 4, 3, 2, 4, 0, 1, 5, 4, 2, 2, 3, 4, 1,\n",
              "       0, 3, 1, 1, 1, 0, 0, 3, 0, 0, 3, 3, 1, 1, 4, 2, 3, 0, 3, 0, 4, 0,\n",
              "       5, 5, 5, 5, 1, 1, 5, 5, 3, 4, 1, 4, 4, 2, 2, 3, 2, 2, 5, 2, 4, 1,\n",
              "       3, 5, 2, 0, 4, 3, 4, 3, 1, 5, 2, 4, 1, 3, 3, 2, 4, 5, 5, 4, 4, 1,\n",
              "       2, 4, 3, 1, 3, 5, 2, 2, 3, 0, 0, 0, 3, 3, 4, 2, 3, 4, 4, 1, 1, 1,\n",
              "       2, 4, 1, 2, 5, 2, 5, 1, 4, 0, 5, 0, 0, 0, 2, 0, 4, 5, 4, 3, 2, 4,\n",
              "       5, 5, 5, 5, 3, 3, 0, 4, 1, 3, 4, 0, 0, 0, 5, 0, 4, 1, 2, 5, 5, 3,\n",
              "       4, 5, 5, 2])"
            ]
          },
          "metadata": {
            "tags": []
          },
          "execution_count": 51
        }
      ]
    },
    {
      "cell_type": "code",
      "metadata": {
        "id": "dEBtAB9y7Bjy"
      },
      "source": [
        "X_train, X_test, y_train, y_test = train_test_split( data, y, \n",
        "                                                             test_size=0.2, \n",
        "                                                             random_state=1234, \n",
        "                                                             stratify=y\n",
        "                                                            )\n",
        "\n",
        "partial_x_train, x_val, partial_y_train, y_val = train_test_split( X_train, y_train, \n",
        "                                                                                 test_size=0.25,\n",
        "                                                                                 random_state=1234, \n",
        "                                                                                 stratify=y_train\n",
        "                                                                                )"
      ],
      "execution_count": null,
      "outputs": []
    },
    {
      "cell_type": "markdown",
      "metadata": {
        "id": "8bBf9hM0X86B"
      },
      "source": [
        "#Clasificacion"
      ]
    },
    {
      "cell_type": "markdown",
      "metadata": {
        "id": "i_cPPX2fWryA"
      },
      "source": [
        "##Clasificacion con Random Forest"
      ]
    },
    {
      "cell_type": "markdown",
      "metadata": {
        "id": "bQVYTLZqWzm-"
      },
      "source": [
        "###Vamos a realizar una grafica que nos ayude a identificar los errores de entrenamiento y generalizacion para asi escoger el mejor numero de estimadores para entrenar el modelo"
      ]
    },
    {
      "cell_type": "code",
      "metadata": {
        "id": "rb90e2To7BhJ"
      },
      "source": [
        "ArrayRF = [2**1, 2**2, 2**3, 2**4, 2**5, 2**6, 2**7, 2**8, 2**9, 2**10, 2**11]"
      ],
      "execution_count": null,
      "outputs": []
    },
    {
      "cell_type": "code",
      "metadata": {
        "id": "cVhQAAXJ7Beh"
      },
      "source": [
        "from sklearn.ensemble import RandomForestClassifier\n",
        "\n",
        "train_error = []\n",
        "generalization_error = []\n",
        "\n",
        "for nn in ArrayRF:\n",
        "    knn = RandomForestClassifier(n_estimators=nn)\n",
        "    knn.fit(partial_x_train, partial_y_train)\n",
        "    train_error.append(1 - knn.score(partial_x_train, partial_y_train))\n",
        "    generalization_error.append(1 - knn.score(x_val, y_val))"
      ],
      "execution_count": null,
      "outputs": []
    },
    {
      "cell_type": "code",
      "metadata": {
        "id": "-myyAj6W7Bb6",
        "colab": {
          "base_uri": "https://localhost:8080/",
          "height": 395
        },
        "outputId": "d3588dbc-9201-4232-bf0d-04a3281ad56c"
      },
      "source": [
        "pl.figure(figsize = (10, 6))\n",
        "\n",
        "pl.plot(ArrayRF, train_error, label=\"Entrenamiento\")\n",
        "pl.plot(ArrayRF, generalization_error, label=\"Generalización\")\n",
        "pl.xscale(\"log\", basex=2) \n",
        "pl.xticks(ArrayRF)\n",
        "pl.xlabel(\"n-estimators\")\n",
        "pl.ylabel(\"Error\")\n",
        "# pl.gca().invert_xaxis()\n",
        "# pl.arrow(13, 0.16, 0, -0.01, head_width=0.2, head_length=0.01, fc='k', ec='k')\n",
        "# pl.text(15, 0.165, 'Punto de balance')\n",
        "pl.legend();"
      ],
      "execution_count": null,
      "outputs": [
        {
          "output_type": "display_data",
          "data": {
            "image/png": "[encoded data removed]",
            "text/plain": [
              "<Figure size 720x432 with 1 Axes>"
            ]
          },
          "metadata": {
            "tags": []
          }
        }
      ]
    },
    {
      "cell_type": "markdown",
      "metadata": {
        "id": "ZAtSEzCJXAZZ"
      },
      "source": [
        "###Entrenamiento y evaluacion"
      ]
    },
    {
      "cell_type": "code",
      "metadata": {
        "id": "3ydlUzn939VM",
        "colab": {
          "base_uri": "https://localhost:8080/",
          "height": 170
        },
        "outputId": "e4afd6ed-fd00-4e94-8a0c-b2aa822fbacd"
      },
      "source": [
        "from sklearn import metrics\n",
        "from sklearn.metrics import accuracy_score\n",
        "from sklearn.metrics import confusion_matrix\n",
        "from tabulate import tabulate\n",
        "\n",
        "Random_forest = RandomForestClassifier(n_estimators=2**5)\n",
        "Random_forest.fit(X_train, y_train)\n",
        "\n",
        "print('Accuracy: {}'.format(Random_forest.score(X_test, y_test)))\n",
        "print('Error: {}'.format(1 - Random_forest.score(X_test, y_test)) + '\\n')\n",
        "\n",
        "y_predic = np.array(Random_forest.predict(X_test))\n",
        "\n",
        "print(f'Etiquetas: {genres}' + '\\n')\n",
        "print('Precision: {}'.format(metrics.precision_score(y_test, y_predic, average=None)))\n",
        "print('Recall:    {}'.format(metrics.recall_score(y_test, y_predic, average=None)))\n",
        "print('F_1 score: {}'.format(metrics.f1_score(y_test, y_predic, average=None))+ '\\n')"
      ],
      "execution_count": null,
      "outputs": [
        {
          "output_type": "stream",
          "text": [
            "Accuracy: 0.3055555555555556\n",
            "Error: 0.6944444444444444\n",
            "\n",
            "Etiquetas: ['bambuco', 'carranga', 'cumbia', 'joropo', 'pasillo', 'vallenato']\n",
            "\n",
            "Precision: [0.25       0.22222222 0.33333333 0.25       0.5        0.375     ]\n",
            "Recall:    [0.16666667 0.33333333 0.16666667 0.33333333 0.33333333 0.5       ]\n",
            "F_1 score: [0.2        0.26666667 0.22222222 0.28571429 0.4        0.42857143]\n",
            "\n"
          ],
          "name": "stdout"
        }
      ]
    },
    {
      "cell_type": "code",
      "metadata": {
        "id": "ZhsX5sh239SI",
        "colab": {
          "base_uri": "https://localhost:8080/",
          "height": 153
        },
        "outputId": "282547d1-6e5a-4052-f8ce-80dc13561f0e"
      },
      "source": [
        "mtrx = confusion_matrix(y_test, y_predic)\n",
        "df1 = pd.DataFrame(mtrx, index=genres, columns=genres)\n",
        "print('Matriz de confusión')\n",
        "print(df1)"
      ],
      "execution_count": null,
      "outputs": [
        {
          "output_type": "stream",
          "text": [
            "Matriz de confusión\n",
            "           bambuco  carranga  cumbia  joropo  pasillo  vallenato\n",
            "bambuco          0         2       0       1        3          0\n",
            "carranga         1         3       0       0        0          2\n",
            "cumbia           1         1       0       0        0          4\n",
            "joropo           0         2       0       2        0          2\n",
            "pasillo          1         1       1       1        2          0\n",
            "vallenato        0         1       0       2        0          3\n"
          ],
          "name": "stdout"
        }
      ]
    },
    {
      "cell_type": "markdown",
      "metadata": {
        "id": "ZOEU7GqZ6DX6"
      },
      "source": [
        "##Clasificacion por red neuronal"
      ]
    },
    {
      "cell_type": "code",
      "metadata": {
        "id": "oK_5zCXb39P_",
        "colab": {
          "base_uri": "https://localhost:8080/",
          "height": 34
        },
        "outputId": "a195f211-46b7-4140-cef5-07a3a5ad3e29"
      },
      "source": [
        "from keras import models\n",
        "from keras import layers"
      ],
      "execution_count": null,
      "outputs": [
        {
          "output_type": "stream",
          "text": [
            "Using TensorFlow backend.\n"
          ],
          "name": "stderr"
        }
      ]
    },
    {
      "cell_type": "code",
      "metadata": {
        "id": "jh2T-7q96G3S",
        "colab": {
          "base_uri": "https://localhost:8080/",
          "height": 1000
        },
        "outputId": "e444843e-4543-453d-8050-928df8879796"
      },
      "source": [
        "model = models.Sequential()\n",
        "model.add(layers.Dense(256, activation='relu', input_shape=(X_train.shape[1],)))\n",
        "model.add(layers.Dense(128, activation='relu'))\n",
        "model.add(layers.Dense(64, activation='relu'))\n",
        "model.add(layers.Dense(6, activation='softmax'))\n",
        "\n",
        "model.compile(optimizer='adam',\n",
        "              loss='sparse_categorical_crossentropy',\n",
        "              metrics=['accuracy'])\n",
        "\n",
        "model.fit(partial_x_train,\n",
        "          partial_y_train,\n",
        "          epochs=20,\n",
        "          batch_size=256,\n",
        "          validation_data=(x_val, y_val))\n",
        "results = model.evaluate(X_test, y_test)"
      ],
      "execution_count": null,
      "outputs": [
        {
          "output_type": "stream",
          "text": [
            "WARNING: Logging before flag parsing goes to stderr.\n",
            "W0717 12:41:19.359651 139769465038720 deprecation_wrapper.py:119] From /usr/local/lib/python3.6/dist-packages/keras/backend/tensorflow_backend.py:74: The name tf.get_default_graph is deprecated. Please use tf.compat.v1.get_default_graph instead.\n",
            "\n",
            "W0717 12:41:19.406837 139769465038720 deprecation_wrapper.py:119] From /usr/local/lib/python3.6/dist-packages/keras/backend/tensorflow_backend.py:517: The name tf.placeholder is deprecated. Please use tf.compat.v1.placeholder instead.\n",
            "\n",
            "W0717 12:41:19.413738 139769465038720 deprecation_wrapper.py:119] From /usr/local/lib/python3.6/dist-packages/keras/backend/tensorflow_backend.py:4138: The name tf.random_uniform is deprecated. Please use tf.random.uniform instead.\n",
            "\n",
            "W0717 12:41:19.474299 139769465038720 deprecation_wrapper.py:119] From /usr/local/lib/python3.6/dist-packages/keras/optimizers.py:790: The name tf.train.Optimizer is deprecated. Please use tf.compat.v1.train.Optimizer instead.\n",
            "\n",
            "W0717 12:41:19.498614 139769465038720 deprecation_wrapper.py:119] From /usr/local/lib/python3.6/dist-packages/keras/backend/tensorflow_backend.py:3341: The name tf.log is deprecated. Please use tf.math.log instead.\n",
            "\n",
            "W0717 12:41:19.631727 139769465038720 deprecation.py:323] From /usr/local/lib/python3.6/dist-packages/tensorflow/python/ops/math_grad.py:1250: add_dispatch_support.<locals>.wrapper (from tensorflow.python.ops.array_ops) is deprecated and will be removed in a future version.\n",
            "Instructions for updating:\n",
            "Use tf.where in 2.0, which has the same broadcast rule as np.where\n",
            "W0717 12:41:19.672213 139769465038720 deprecation_wrapper.py:119] From /usr/local/lib/python3.6/dist-packages/keras/backend/tensorflow_backend.py:986: The name tf.assign_add is deprecated. Please use tf.compat.v1.assign_add instead.\n",
            "\n"
          ],
          "name": "stderr"
        },
        {
          "output_type": "stream",
          "text": [
            "Train on 108 samples, validate on 36 samples\n",
            "Epoch 1/20\n",
            "108/108 [==============================] - 1s 7ms/step - loss: 1.8039 - acc: 0.1667 - val_loss: 1.7748 - val_acc: 0.1667\n",
            "Epoch 2/20\n",
            "108/108 [==============================] - 0s 65us/step - loss: 1.7779 - acc: 0.1852 - val_loss: 1.7601 - val_acc: 0.2222\n",
            "Epoch 3/20\n",
            "108/108 [==============================] - 0s 63us/step - loss: 1.7518 - acc: 0.2407 - val_loss: 1.7478 - val_acc: 0.2778\n",
            "Epoch 4/20\n",
            "108/108 [==============================] - 0s 49us/step - loss: 1.7274 - acc: 0.2870 - val_loss: 1.7355 - val_acc: 0.2778\n",
            "Epoch 5/20\n",
            "108/108 [==============================] - 0s 56us/step - loss: 1.7050 - acc: 0.3241 - val_loss: 1.7225 - val_acc: 0.3056\n",
            "Epoch 6/20\n",
            "108/108 [==============================] - 0s 69us/step - loss: 1.6847 - acc: 0.3333 - val_loss: 1.7100 - val_acc: 0.3333\n",
            "Epoch 7/20\n",
            "108/108 [==============================] - 0s 49us/step - loss: 1.6645 - acc: 0.3889 - val_loss: 1.6972 - val_acc: 0.3611\n",
            "Epoch 8/20\n",
            "108/108 [==============================] - 0s 53us/step - loss: 1.6446 - acc: 0.4074 - val_loss: 1.6841 - val_acc: 0.3889\n",
            "Epoch 9/20\n",
            "108/108 [==============================] - 0s 51us/step - loss: 1.6247 - acc: 0.4167 - val_loss: 1.6702 - val_acc: 0.3889\n",
            "Epoch 10/20\n",
            "108/108 [==============================] - 0s 57us/step - loss: 1.6043 - acc: 0.4167 - val_loss: 1.6563 - val_acc: 0.4444\n",
            "Epoch 11/20\n",
            "108/108 [==============================] - 0s 56us/step - loss: 1.5837 - acc: 0.4167 - val_loss: 1.6422 - val_acc: 0.4444\n",
            "Epoch 12/20\n",
            "108/108 [==============================] - 0s 57us/step - loss: 1.5631 - acc: 0.4259 - val_loss: 1.6285 - val_acc: 0.4722\n",
            "Epoch 13/20\n",
            "108/108 [==============================] - 0s 84us/step - loss: 1.5423 - acc: 0.4537 - val_loss: 1.6148 - val_acc: 0.4722\n",
            "Epoch 14/20\n",
            "108/108 [==============================] - 0s 62us/step - loss: 1.5219 - acc: 0.4537 - val_loss: 1.6010 - val_acc: 0.4722\n",
            "Epoch 15/20\n",
            "108/108 [==============================] - 0s 58us/step - loss: 1.5017 - acc: 0.4630 - val_loss: 1.5875 - val_acc: 0.4722\n",
            "Epoch 16/20\n",
            "108/108 [==============================] - 0s 52us/step - loss: 1.4816 - acc: 0.4630 - val_loss: 1.5744 - val_acc: 0.5000\n",
            "Epoch 17/20\n",
            "108/108 [==============================] - 0s 54us/step - loss: 1.4620 - acc: 0.4630 - val_loss: 1.5616 - val_acc: 0.5000\n",
            "Epoch 18/20\n",
            "108/108 [==============================] - 0s 49us/step - loss: 1.4428 - acc: 0.4630 - val_loss: 1.5489 - val_acc: 0.4722\n",
            "Epoch 19/20\n",
            "108/108 [==============================] - 0s 37us/step - loss: 1.4242 - acc: 0.5000 - val_loss: 1.5367 - val_acc: 0.4722\n",
            "Epoch 20/20\n",
            "108/108 [==============================] - 0s 52us/step - loss: 1.4062 - acc: 0.5185 - val_loss: 1.5245 - val_acc: 0.4722\n",
            "36/36 [==============================] - 0s 191us/step\n"
          ],
          "name": "stdout"
        }
      ]
    },
    {
      "cell_type": "code",
      "metadata": {
        "id": "aQ3eb7Yz6G05",
        "colab": {
          "base_uri": "https://localhost:8080/",
          "height": 34
        },
        "outputId": "b25fba79-5a97-4ae9-e3fd-a85863baef50"
      },
      "source": [
        "results"
      ],
      "execution_count": null,
      "outputs": [
        {
          "output_type": "execute_result",
          "data": {
            "text/plain": [
              "[1.7243643866644964, 0.4166666666666667]"
            ]
          },
          "metadata": {
            "tags": []
          },
          "execution_count": 60
        }
      ]
    },
    {
      "cell_type": "code",
      "metadata": {
        "id": "_Dh0ifbR6GyY",
        "colab": {
          "base_uri": "https://localhost:8080/",
          "height": 1000
        },
        "outputId": "ef7f195c-7c52-4655-f79a-35a38c57153d"
      },
      "source": [
        "predictions = model.predict(X_test)\n",
        "print(predictions)"
      ],
      "execution_count": null,
      "outputs": [
        {
          "output_type": "stream",
          "text": [
            "[[2.49493644e-01 1.25652492e-01 1.01511545e-01 6.95213154e-02\n",
            "  4.30943340e-01 2.28776690e-02]\n",
            " [4.43343520e-02 2.38086451e-02 4.12377231e-02 4.91968453e-01\n",
            "  3.53476033e-02 3.63303185e-01]\n",
            " [2.16850474e-01 2.95246784e-02 1.69965655e-01 6.43962100e-02\n",
            "  4.89720821e-01 2.95421705e-02]\n",
            " [1.46142006e-01 3.47135812e-02 1.16316028e-01 4.65123832e-01\n",
            "  6.15221150e-02 1.76182389e-01]\n",
            " [1.23371415e-01 1.51879579e-01 1.21919081e-01 2.67995834e-01\n",
            "  1.14532106e-01 2.20302001e-01]\n",
            " [4.31873232e-01 6.22437941e-03 3.76014739e-01 4.11294363e-02\n",
            "  1.37118340e-01 7.63995480e-03]\n",
            " [1.48050651e-01 2.33246222e-01 1.78794906e-01 1.92478746e-01\n",
            "  1.48392990e-01 9.90364701e-02]\n",
            " [4.68922369e-02 5.69669940e-02 5.04406169e-02 2.89162993e-01\n",
            "  6.37800694e-02 4.92757022e-01]\n",
            " [1.74830526e-01 1.90553427e-01 1.30356520e-01 1.56128198e-01\n",
            "  2.31012851e-01 1.17118508e-01]\n",
            " [1.32596776e-01 1.55150443e-01 1.31379962e-01 1.97892621e-01\n",
            "  1.35673389e-01 2.47306794e-01]\n",
            " [1.38680920e-01 1.59977660e-01 1.38994798e-01 1.90813199e-01\n",
            "  1.39014065e-01 2.32519403e-01]\n",
            " [8.66990834e-02 2.11331993e-01 9.47419629e-02 2.46321052e-01\n",
            "  9.66491625e-02 2.64256686e-01]\n",
            " [1.83034420e-01 1.38051286e-01 1.65442228e-01 1.65413827e-01\n",
            "  2.15029731e-01 1.33028537e-01]\n",
            " [1.61082610e-01 1.88692927e-01 1.70707196e-01 1.73586875e-01\n",
            "  1.55001894e-01 1.50928482e-01]\n",
            " [8.97068232e-02 2.19354242e-01 9.48750675e-02 2.29746342e-01\n",
            "  9.95744988e-02 2.66743004e-01]\n",
            " [2.38149211e-01 1.00565001e-01 2.79493690e-01 1.49482563e-01\n",
            "  1.58261225e-01 7.40483031e-02]\n",
            " [1.66544184e-01 2.37850457e-01 1.62971333e-01 1.51193738e-01\n",
            "  1.53703451e-01 1.27736807e-01]\n",
            " [1.66693345e-01 2.94230133e-01 1.15721993e-01 1.41429871e-01\n",
            "  1.49168298e-01 1.32756442e-01]\n",
            " [1.92817211e-01 1.57111794e-01 1.52209580e-01 1.36273190e-01\n",
            "  2.56063282e-01 1.05524875e-01]\n",
            " [9.97789353e-02 3.58775139e-01 9.60665643e-02 1.69633985e-01\n",
            "  1.01246960e-01 1.74498439e-01]\n",
            " [1.34721205e-01 2.19610766e-01 1.36358455e-01 2.65390962e-01\n",
            "  1.12908542e-01 1.31010070e-01]\n",
            " [6.91791400e-02 7.07946420e-02 7.78452531e-02 3.49299997e-01\n",
            "  8.01347941e-02 3.52746129e-01]\n",
            " [2.29827315e-01 1.27372712e-01 1.98076516e-01 1.19048007e-01\n",
            "  2.47176528e-01 7.84988776e-02]\n",
            " [1.19251490e-01 1.20527856e-01 1.27814859e-01 2.38684863e-01\n",
            "  1.19542249e-01 2.74178654e-01]\n",
            " [9.91234109e-02 1.03106983e-01 1.06598049e-01 2.48291820e-01\n",
            "  1.06577314e-01 3.36302370e-01]\n",
            " [1.93232134e-01 4.29087579e-02 8.54004920e-02 5.42083457e-02\n",
            "  6.07316494e-01 1.69337243e-02]\n",
            " [2.50382423e-01 1.82059798e-02 2.23063141e-01 3.56362075e-01\n",
            "  1.01267457e-01 5.07188551e-02]\n",
            " [1.19182222e-01 2.53062636e-01 1.26482114e-01 2.46176079e-01\n",
            "  1.15568928e-01 1.39527991e-01]\n",
            " [1.15967236e-01 2.90199190e-01 1.01374775e-01 1.76965833e-01\n",
            "  1.14060357e-01 2.01432586e-01]\n",
            " [5.69990985e-02 5.60660660e-02 5.81320934e-02 2.55590171e-01\n",
            "  6.83789849e-02 5.04833579e-01]\n",
            " [1.31484166e-01 1.22877665e-01 1.36030808e-01 2.53095716e-01\n",
            "  1.17032737e-01 2.39478961e-01]\n",
            " [1.14216739e-02 1.45713580e-04 2.22057793e-02 9.57954466e-01\n",
            "  5.33428881e-03 2.93804193e-03]\n",
            " [1.48544043e-01 1.62098035e-01 1.50550544e-01 2.11337745e-01\n",
            "  1.34589270e-01 1.92880422e-01]\n",
            " [1.38227925e-01 2.90658712e-01 1.48940638e-01 1.67394668e-01\n",
            "  1.30360588e-01 1.24417476e-01]\n",
            " [1.61304682e-01 3.40778530e-01 1.41782701e-01 1.31976202e-01\n",
            "  1.29527822e-01 9.46300328e-02]\n",
            " [9.28326994e-02 2.01571032e-01 9.73908529e-02 3.14083487e-01\n",
            "  9.39355344e-02 2.00186417e-01]]\n"
          ],
          "name": "stdout"
        }
      ]
    },
    {
      "cell_type": "code",
      "metadata": {
        "id": "YbHSfrp66GrW",
        "colab": {
          "base_uri": "https://localhost:8080/",
          "height": 51
        },
        "outputId": "a16528fe-ffcc-46fa-9406-dee83628ede4"
      },
      "source": [
        "predictions.argmax(axis=1)"
      ],
      "execution_count": null,
      "outputs": [
        {
          "output_type": "execute_result",
          "data": {
            "text/plain": [
              "array([4, 3, 4, 3, 3, 0, 1, 5, 4, 5, 5, 5, 4, 1, 5, 2, 1, 1, 4, 1, 3, 5,\n",
              "       4, 5, 5, 4, 3, 1, 1, 5, 3, 3, 3, 1, 1, 3])"
            ]
          },
          "metadata": {
            "tags": []
          },
          "execution_count": 62
        }
      ]
    },
    {
      "cell_type": "code",
      "metadata": {
        "id": "IWXYq6o96Go-",
        "colab": {
          "base_uri": "https://localhost:8080/",
          "height": 187
        },
        "outputId": "69203cef-dde2-4969-b6fe-3904d2ce9e06"
      },
      "source": [
        "test_loss, test_acc = model.evaluate(X_test,y_test)\n",
        "\n",
        "print('Accuracy: {}'.format(test_acc))\n",
        "print('Error: {}'.format(1-test_acc) + '\\n')\n",
        "\n",
        "print(f'Etiquetas: {genres}' + '\\n')\n",
        "print('Precision: {}'.format(metrics.precision_score(y_test, predictions.argmax(axis=1), average=None)))\n",
        "print('Recall:    {}'.format(metrics.recall_score(y_test, predictions.argmax(axis=1), average=None)))\n",
        "print('F_1 score: {}'.format(metrics.f1_score(y_test, predictions.argmax(axis=1), average=None))+ '\\n')"
      ],
      "execution_count": null,
      "outputs": [
        {
          "output_type": "stream",
          "text": [
            "36/36 [==============================] - 0s 189us/step\n",
            "Accuracy: 0.4166666666666667\n",
            "Error: 0.5833333333333333\n",
            "\n",
            "Etiquetas: ['bambuco', 'carranga', 'cumbia', 'joropo', 'pasillo', 'vallenato']\n",
            "\n",
            "Precision: [0.         0.44444444 0.         0.44444444 0.42857143 0.44444444]\n",
            "Recall:    [0.         0.66666667 0.         0.66666667 0.5        0.66666667]\n",
            "F_1 score: [0.         0.53333333 0.         0.53333333 0.46153846 0.53333333]\n",
            "\n"
          ],
          "name": "stdout"
        }
      ]
    },
    {
      "cell_type": "code",
      "metadata": {
        "id": "2ib7BxyO39M_",
        "colab": {
          "base_uri": "https://localhost:8080/",
          "height": 153
        },
        "outputId": "82d111a7-e5e9-4dd7-fb73-17fb2857a5fc"
      },
      "source": [
        "from sklearn.metrics import confusion_matrix\n",
        "mtrx1 = confusion_matrix(y_test, predictions.argmax(axis=1))\n",
        "df2 = pd.DataFrame(mtrx1, index=genres, columns=genres)\n",
        "print('Matriz de confusión')\n",
        "print(df2)"
      ],
      "execution_count": null,
      "outputs": [
        {
          "output_type": "stream",
          "text": [
            "Matriz de confusión\n",
            "           bambuco  carranga  cumbia  joropo  pasillo  vallenato\n",
            "bambuco          0         0       1       1        3          1\n",
            "carranga         0         4       0       0        1          1\n",
            "cumbia           0         3       0       1        0          2\n",
            "joropo           0         1       0       4        0          1\n",
            "pasillo          1         1       0       1        3          0\n",
            "vallenato        0         0       0       2        0          4\n"
          ],
          "name": "stdout"
        }
      ]
    },
    {
      "cell_type": "markdown",
      "metadata": {
        "id": "HFMLwsmKEX5a"
      },
      "source": [
        "##Clasificacion usando LinearSVC"
      ]
    },
    {
      "cell_type": "code",
      "metadata": {
        "id": "dxiiNRqJGS1I"
      },
      "source": [
        "from sklearn.svm import LinearSVC"
      ],
      "execution_count": null,
      "outputs": []
    },
    {
      "cell_type": "code",
      "metadata": {
        "id": "P_D2y4y7Ebtz"
      },
      "source": [
        "LinearSVC = LinearSVC()"
      ],
      "execution_count": null,
      "outputs": []
    },
    {
      "cell_type": "code",
      "metadata": {
        "id": "01W4ws7aEbrN",
        "colab": {
          "base_uri": "https://localhost:8080/",
          "height": 85
        },
        "outputId": "c4fb0063-16f4-4283-80cb-a47a3d5ac420"
      },
      "source": [
        "LinearSVC.fit(X_train, y_train)"
      ],
      "execution_count": null,
      "outputs": [
        {
          "output_type": "execute_result",
          "data": {
            "text/plain": [
              "LinearSVC(C=1.0, class_weight=None, dual=True, fit_intercept=True,\n",
              "          intercept_scaling=1, loss='squared_hinge', max_iter=1000,\n",
              "          multi_class='ovr', penalty='l2', random_state=None, tol=0.0001,\n",
              "          verbose=0)"
            ]
          },
          "metadata": {
            "tags": []
          },
          "execution_count": 67
        }
      ]
    },
    {
      "cell_type": "code",
      "metadata": {
        "id": "O8Ji6xEvEbos",
        "colab": {
          "base_uri": "https://localhost:8080/",
          "height": 258
        },
        "outputId": "fd41583a-da3c-4539-ac1f-c9ccf47b9435"
      },
      "source": [
        "print('Accuracy: {}'.format(LinearSVC.score(X_test, y_test)))\n",
        "print('Error: {}'.format(1 - LinearSVC.score(X_test, y_test)) + '\\n')\n",
        "\n",
        "y_predic = np.array(LinearSVC.predict(X_test))\n",
        "\n",
        "print(f'Etiquetas: {genres}' + '\\n')\n",
        "print('Precision: {}'.format(metrics.precision_score(y_test, y_predic, average=None)))\n",
        "print('Recall:    {}'.format(metrics.recall_score(y_test, y_predic, average=None)))\n",
        "print('F_1 score: {}'.format(metrics.f1_score(y_test, y_predic, average=None))+ '\\n')"
      ],
      "execution_count": null,
      "outputs": [
        {
          "output_type": "stream",
          "text": [
            "Accuracy: 0.3888888888888889\n",
            "Error: 0.6111111111111112\n",
            "\n",
            "Etiquetas: ['bambuco', 'carranga', 'cumbia', 'joropo', 'pasillo', 'vallenato']\n",
            "\n",
            "Precision: [1.         0.27272727 0.         0.28571429 0.66666667 0.36363636]\n",
            "Recall:    [0.16666667 0.5        0.         0.33333333 0.66666667 0.66666667]\n",
            "F_1 score: [0.28571429 0.35294118 0.         0.30769231 0.66666667 0.47058824]\n",
            "\n"
          ],
          "name": "stdout"
        },
        {
          "output_type": "stream",
          "text": [
            "/usr/local/lib/python3.6/dist-packages/sklearn/metrics/classification.py:1437: UndefinedMetricWarning: Precision is ill-defined and being set to 0.0 in labels with no predicted samples.\n",
            "  'precision', 'predicted', average, warn_for)\n",
            "/usr/local/lib/python3.6/dist-packages/sklearn/metrics/classification.py:1437: UndefinedMetricWarning: F-score is ill-defined and being set to 0.0 in labels with no predicted samples.\n",
            "  'precision', 'predicted', average, warn_for)\n"
          ],
          "name": "stderr"
        }
      ]
    },
    {
      "cell_type": "code",
      "metadata": {
        "id": "DIk4gAz4FLTG",
        "colab": {
          "base_uri": "https://localhost:8080/",
          "height": 153
        },
        "outputId": "f9e74feb-288c-4951-da80-85ad8efb3858"
      },
      "source": [
        "mtrx = confusion_matrix(y_test, y_predic)\n",
        "df1 = pd.DataFrame(mtrx, index=genres, columns=genres)\n",
        "print('Matriz de confusión')\n",
        "print(df1)"
      ],
      "execution_count": null,
      "outputs": [
        {
          "output_type": "stream",
          "text": [
            "Matriz de confusión\n",
            "           bambuco  carranga  cumbia  joropo  pasillo  vallenato\n",
            "bambuco          1         3       0       1        1          0\n",
            "carranga         0         3       0       0        1          2\n",
            "cumbia           0         2       0       1        0          3\n",
            "joropo           0         2       0       2        0          2\n",
            "pasillo          0         1       0       1        4          0\n",
            "vallenato        0         0       0       2        0          4\n"
          ],
          "name": "stdout"
        }
      ]
    },
    {
      "cell_type": "markdown",
      "metadata": {
        "id": "xiTC5KS5T6XK"
      },
      "source": [
        "##Clasificacion con LogisticRegression"
      ]
    },
    {
      "cell_type": "code",
      "metadata": {
        "id": "iJuKyQPAVWA_"
      },
      "source": [
        "from sklearn.linear_model import LogisticRegression"
      ],
      "execution_count": null,
      "outputs": []
    },
    {
      "cell_type": "code",
      "metadata": {
        "id": "SGFpJP_YUQ7e",
        "colab": {
          "base_uri": "https://localhost:8080/",
          "height": 170
        },
        "outputId": "bd08e7bb-8769-4122-c9c0-bd109b60e6a5"
      },
      "source": [
        "from sklearn import metrics\n",
        "from sklearn.metrics import accuracy_score\n",
        "from sklearn.metrics import confusion_matrix\n",
        "from tabulate import tabulate\n",
        "\n",
        "model = LogisticRegression(random_state=0, solver='lbfgs', multi_class='auto')\n",
        "model.fit(X_train, y_train)\n",
        "\n",
        "print('Accuracy: {}'.format(model.score(X_test, y_test)))\n",
        "print('Error: {}'.format(1 - model.score(X_test, y_test)) + '\\n')\n",
        "\n",
        "y_predic = np.array(model.predict(X_test))\n",
        "\n",
        "print(f'Etiquetas: {genres}' + '\\n')\n",
        "print('Precision: {}'.format(metrics.precision_score(y_test, y_predic, average=None)))\n",
        "print('Recall:    {}'.format(metrics.recall_score(y_test, y_predic, average=None)))\n",
        "print('F_1 score: {}'.format(metrics.f1_score(y_test, y_predic, average=None))+ '\\n')"
      ],
      "execution_count": null,
      "outputs": [
        {
          "output_type": "stream",
          "text": [
            "Accuracy: 0.3333333333333333\n",
            "Error: 0.6666666666666667\n",
            "\n",
            "Etiquetas: ['bambuco', 'carranga', 'cumbia', 'joropo', 'pasillo', 'vallenato']\n",
            "\n",
            "Precision: [0.33333333 0.44444444 0.         0.22222222 0.66666667 0.33333333]\n",
            "Recall:    [0.16666667 0.66666667 0.         0.33333333 0.33333333 0.5       ]\n",
            "F_1 score: [0.22222222 0.53333333 0.         0.26666667 0.44444444 0.4       ]\n",
            "\n"
          ],
          "name": "stdout"
        }
      ]
    },
    {
      "cell_type": "code",
      "metadata": {
        "id": "HQqfiu6IURXb",
        "colab": {
          "base_uri": "https://localhost:8080/",
          "height": 153
        },
        "outputId": "3d218e3f-2c74-45e2-9b7e-a50258e33548"
      },
      "source": [
        "mtrx = confusion_matrix(y_test, y_predic)\n",
        "df1 = pd.DataFrame(mtrx, index=genres, columns=genres)\n",
        "print('Matriz de confusión')\n",
        "print(df1)"
      ],
      "execution_count": null,
      "outputs": [
        {
          "output_type": "stream",
          "text": [
            "Matriz de confusión\n",
            "           bambuco  carranga  cumbia  joropo  pasillo  vallenato\n",
            "bambuco          1         0       3       2        0          0\n",
            "carranga         0         4       0       0        1          1\n",
            "cumbia           0         2       0       1        0          3\n",
            "joropo           0         2       0       2        0          2\n",
            "pasillo          2         1       0       1        2          0\n",
            "vallenato        0         0       0       3        0          3\n"
          ],
          "name": "stdout"
        }
      ]
    },
    {
      "cell_type": "markdown",
      "metadata": {
        "id": "2FAFkEsKH1JW"
      },
      "source": [
        "##Clasificacion con Naive Bayes"
      ]
    },
    {
      "cell_type": "code",
      "metadata": {
        "id": "T0aymNriICQI"
      },
      "source": [
        "from sklearn.naive_bayes import MultinomialNB\n",
        "ModelBayes = MultinomialNB()"
      ],
      "execution_count": null,
      "outputs": []
    },
    {
      "cell_type": "code",
      "metadata": {
        "id": "O3nv5omAPVx_"
      },
      "source": [
        "X_train, X_test, y_train, y_test = train_test_split( dataNB, y, \n",
        "                                                             test_size=0.2, \n",
        "                                                             random_state=1234, \n",
        "                                                             stratify=y\n",
        "                                                            )\n",
        "\n",
        "partial_x_train, x_val, partial_y_train, y_val = train_test_split( X_train, y_train, \n",
        "                                                                                 test_size=0.25,\n",
        "                                                                                 random_state=1234, \n",
        "                                                                                 stratify=y_train\n",
        "                                                                                )"
      ],
      "execution_count": null,
      "outputs": []
    },
    {
      "cell_type": "code",
      "metadata": {
        "id": "DiJW95ggICov",
        "colab": {
          "base_uri": "https://localhost:8080/",
          "height": 34
        },
        "outputId": "e8ff575d-2351-435d-fa7d-4ad8541d4aa2"
      },
      "source": [
        "ModelBayes.fit(X_train, y_train)"
      ],
      "execution_count": null,
      "outputs": [
        {
          "output_type": "execute_result",
          "data": {
            "text/plain": [
              "MultinomialNB(alpha=1.0, class_prior=None, fit_prior=True)"
            ]
          },
          "metadata": {
            "tags": []
          },
          "execution_count": 92
        }
      ]
    },
    {
      "cell_type": "code",
      "metadata": {
        "id": "hTglxqu-B6iJ",
        "colab": {
          "base_uri": "https://localhost:8080/",
          "height": 1000
        },
        "outputId": "3373851c-6da0-4b1a-d3f4-1347d4ba6a3c"
      },
      "source": [
        "ModelBayes.predict_proba(X_test)"
      ],
      "execution_count": null,
      "outputs": [
        {
          "output_type": "execute_result",
          "data": {
            "text/plain": [
              "array([[0.22448453, 0.1842976 , 0.17508103, 0.09743275, 0.25070864,\n",
              "        0.06799545],\n",
              "       [0.02586467, 0.0743821 , 0.07498486, 0.28879246, 0.01151587,\n",
              "        0.52446004],\n",
              "       [0.2285212 , 0.18410972, 0.17719173, 0.0941913 , 0.25379656,\n",
              "        0.06218949],\n",
              "       [0.07572676, 0.11951444, 0.1446192 , 0.29110252, 0.04631915,\n",
              "        0.32271794],\n",
              "       [0.14266802, 0.18152133, 0.1775865 , 0.19579065, 0.11436783,\n",
              "        0.18806568],\n",
              "       [0.22502008, 0.18455409, 0.18341185, 0.10155009, 0.23995986,\n",
              "        0.06550403],\n",
              "       [0.21811117, 0.21875952, 0.16529293, 0.08882513, 0.23750045,\n",
              "        0.07151079],\n",
              "       [0.02667468, 0.05743914, 0.0802235 , 0.33068286, 0.01234923,\n",
              "        0.49263059],\n",
              "       [0.16991301, 0.16982064, 0.19039291, 0.17804939, 0.15022409,\n",
              "        0.14159995],\n",
              "       [0.13433911, 0.16199325, 0.17919497, 0.2181413 , 0.1048964 ,\n",
              "        0.20143497],\n",
              "       [0.14521364, 0.17086187, 0.18203257, 0.20188871, 0.11758401,\n",
              "        0.18241919],\n",
              "       [0.1334887 , 0.19457596, 0.16637445, 0.19057825, 0.10527913,\n",
              "        0.20970351],\n",
              "       [0.16839472, 0.17215003, 0.19012204, 0.17858995, 0.14735509,\n",
              "        0.14338816],\n",
              "       [0.17855595, 0.18951711, 0.18524585, 0.15515079, 0.16255243,\n",
              "        0.12897787],\n",
              "       [0.13083231, 0.19048993, 0.16593077, 0.1952667 , 0.10232818,\n",
              "        0.21515211],\n",
              "       [0.20187035, 0.20166545, 0.18111354, 0.12097223, 0.19977478,\n",
              "        0.09460365],\n",
              "       [0.1911703 , 0.19434561, 0.18287003, 0.13701838, 0.18350066,\n",
              "        0.11109502],\n",
              "       [0.16893433, 0.17953316, 0.18547977, 0.17124115, 0.14993939,\n",
              "        0.14487219],\n",
              "       [0.18878418, 0.18099683, 0.18872976, 0.14885101, 0.17841575,\n",
              "        0.11422247],\n",
              "       [0.17677643, 0.20943615, 0.17391663, 0.14169559, 0.16424353,\n",
              "        0.13393166],\n",
              "       [0.19289786, 0.21699437, 0.17468128, 0.12169175, 0.18708908,\n",
              "        0.10664565],\n",
              "       [0.04843868, 0.0791526 , 0.11595603, 0.33481075, 0.02640853,\n",
              "        0.39523341],\n",
              "       [0.21141432, 0.19263884, 0.18045794, 0.11291491, 0.21923794,\n",
              "        0.08333605],\n",
              "       [0.11395505, 0.14449694, 0.17168595, 0.24891687, 0.08263903,\n",
              "        0.23830616],\n",
              "       [0.08852466, 0.12650246, 0.15409637, 0.27823329, 0.05836163,\n",
              "        0.2942816 ],\n",
              "       [0.22952141, 0.17636839, 0.17759646, 0.09550822, 0.25896025,\n",
              "        0.06204528],\n",
              "       [0.11369477, 0.12252447, 0.18232488, 0.27643983, 0.0811395 ,\n",
              "        0.22387655],\n",
              "       [0.19649289, 0.2182082 , 0.17305649, 0.11644567, 0.1941581 ,\n",
              "        0.10163864],\n",
              "       [0.15059117, 0.18856316, 0.17563871, 0.18144141, 0.12635985,\n",
              "        0.1774057 ],\n",
              "       [0.03640944, 0.07994582, 0.09416231, 0.30915714, 0.01812909,\n",
              "        0.4621962 ],\n",
              "       [0.13572267, 0.1692065 , 0.1786518 , 0.21178799, 0.10580989,\n",
              "        0.19882117],\n",
              "       [0.00692943, 0.00967854, 0.04370971, 0.4753627 , 0.00228025,\n",
              "        0.46203936],\n",
              "       [0.15898485, 0.1803594 , 0.18460891, 0.18216233, 0.13471061,\n",
              "        0.1591739 ],\n",
              "       [0.20213246, 0.20801104, 0.1750154 , 0.11496128, 0.20470183,\n",
              "        0.095178  ],\n",
              "       [0.21050068, 0.20728488, 0.17185799, 0.10417492, 0.22216266,\n",
              "        0.08401887],\n",
              "       [0.15321948, 0.2076683 , 0.1721206 , 0.16699273, 0.12877373,\n",
              "        0.17122516]])"
            ]
          },
          "metadata": {
            "tags": []
          },
          "execution_count": 102
        }
      ]
    },
    {
      "cell_type": "code",
      "metadata": {
        "id": "wbWbwAYjIClw",
        "colab": {
          "base_uri": "https://localhost:8080/",
          "height": 170
        },
        "outputId": "e0ef958b-c0d9-43a0-c0ea-41456a033685"
      },
      "source": [
        "print('Accuracy: {}'.format(ModelBayes.score(X_test, y_test)))\n",
        "print('Error: {}'.format(1 - ModelBayes.score(X_test, y_test)) + '\\n')\n",
        "\n",
        "y_predic = np.array(ModelBayes.predict(X_test))\n",
        "\n",
        "print(f'Etiquetas: {genres}' + '\\n')\n",
        "print('Precision: {}'.format(metrics.precision_score(y_test, y_predic, average=None)))\n",
        "print('Recall:    {}'.format(metrics.recall_score(y_test, y_predic, average=None)))\n",
        "print('F_1 score: {}'.format(metrics.f1_score(y_test, y_predic, average=None))+ '\\n')"
      ],
      "execution_count": null,
      "outputs": [
        {
          "output_type": "stream",
          "text": [
            "Accuracy: 0.3611111111111111\n",
            "Error: 0.6388888888888888\n",
            "\n",
            "Etiquetas: ['bambuco', 'carranga', 'cumbia', 'joropo', 'pasillo', 'vallenato']\n",
            "\n",
            "Precision: [1.         0.25       0.25       0.14285714 0.57142857 0.375     ]\n",
            "Recall:    [0.33333333 0.33333333 0.16666667 0.16666667 0.66666667 0.5       ]\n",
            "F_1 score: [0.5        0.28571429 0.2        0.15384615 0.61538462 0.42857143]\n",
            "\n"
          ],
          "name": "stdout"
        }
      ]
    },
    {
      "cell_type": "code",
      "metadata": {
        "id": "83sDKar3MPb4",
        "colab": {
          "base_uri": "https://localhost:8080/",
          "height": 153
        },
        "outputId": "cb28694f-5503-476e-d489-dcc05ea05342"
      },
      "source": [
        "mtrx = confusion_matrix(y_test, y_predic)\n",
        "df1 = pd.DataFrame(mtrx, index=genres, columns=genres)\n",
        "print('Matriz de confusión')\n",
        "print(df1)"
      ],
      "execution_count": null,
      "outputs": [
        {
          "output_type": "stream",
          "text": [
            "Matriz de confusión\n",
            "           bambuco  carranga  cumbia  joropo  pasillo  vallenato\n",
            "bambuco          2         0       3       1        0          0\n",
            "carranga         0         2       0       0        3          1\n",
            "cumbia           0         2       1       1        0          2\n",
            "joropo           0         3       0       1        0          2\n",
            "pasillo          0         1       0       1        4          0\n",
            "vallenato        0         0       0       3        0          3\n"
          ],
          "name": "stdout"
        }
      ]
    }
  ]
}